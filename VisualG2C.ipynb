{
  "nbformat": 4,
  "nbformat_minor": 0,
  "metadata": {
    "colab": {
      "name": "VisualG2C.ipynb",
      "provenance": [],
      "collapsed_sections": [
        "qHV7Mjbn_Pho"
      ],
      "include_colab_link": true
    },
    "kernelspec": {
      "name": "python3",
      "display_name": "Python 3"
    },
    "language_info": {
      "name": "python"
    }
  },
  "cells": [
    {
      "cell_type": "markdown",
      "metadata": {
        "id": "view-in-github",
        "colab_type": "text"
      },
      "source": [
        "<a href=\"https://colab.research.google.com/github/halen48/VisualG2C/blob/main/VisualG2C.ipynb\" target=\"_parent\"><img src=\"https://colab.research.google.com/assets/colab-badge.svg\" alt=\"Open In Colab\"/></a>"
      ]
    },
    {
      "cell_type": "code",
      "source": [
        "import re\n",
        "import inspect"
      ],
      "metadata": {
        "id": "aouHrkQpxj_t"
      },
      "execution_count": 409,
      "outputs": []
    },
    {
      "cell_type": "code",
      "source": [
        "nome_arq_c = \".c\" #@param"
      ],
      "metadata": {
        "cellView": "form",
        "id": "dcvNKoKPkcHL"
      },
      "execution_count": 410,
      "outputs": []
    },
    {
      "cell_type": "markdown",
      "source": [
        "#Programa"
      ],
      "metadata": {
        "id": "eOMPbsivp4rE"
      }
    },
    {
      "cell_type": "code",
      "source": [
        "programas = []"
      ],
      "metadata": {
        "id": "ejj5hJP9ATra"
      },
      "execution_count": 411,
      "outputs": []
    },
    {
      "cell_type": "code",
      "execution_count": 412,
      "metadata": {
        "id": "FU_8n8Q5pLtr"
      },
      "outputs": [],
      "source": [
        "programas.append(\"\"\"\n",
        "algoritmo \"Calculos de numeros\"\n",
        "// Função : Exibe informações como o maior, menor número, a média e a sua soma\n",
        "// Autor : Guilherme Novaes\n",
        "// Data : 11/03/2022\n",
        "// Seção de Declarações\n",
        "var\n",
        "numeros: vetor [1..5] de inteiro\n",
        "teste1,teste2,teste3, teste4 : vetor [1..3,1..4] de real\n",
        "nome : caractere\n",
        "max, min,i,soma:inteiro\n",
        "media : real\n",
        "inicio\n",
        "// Seção de Comandos\n",
        "\n",
        "escreva(\"Digite seu nome: \")\n",
        "leia(nome)\n",
        "\n",
        "max<-numeros[1];\n",
        "para i de 1 ate 5 faca\n",
        "  escreva (nome, \", digite o \", i,\"o valor: \")\n",
        "  leia(numeros[i])\n",
        "\n",
        "  // soma dos valores digitados\n",
        "  soma <- soma + numeros[i];\n",
        "  //media entre os valores digitados\n",
        "  media<- soma / 5;\n",
        "\n",
        "  se (numeros[i] > max) entao\n",
        "    max<- numeros[i];\n",
        "  fimse\n",
        "\n",
        "  min <- numeros[1];\n",
        "  se (numeros[i] < min) entao\n",
        "    min <- numeros[i];\n",
        "  fimse\n",
        "fimpara\n",
        "\n",
        "escreval (\"maior numero: \", max)\n",
        "escreval (\"menor numero: \",min)\n",
        "escreval(\"Soma dos numeros digitados:\",soma)\n",
        "escreva (\"Média dos numero digitados:\", media)\n",
        "\n",
        "fimalgoritmo\n",
        "\"\"\")"
      ]
    },
    {
      "cell_type": "code",
      "source": [
        "programas.append(\"\"\"\n",
        "algoritmo \"Times\"\n",
        "var time: caractere\n",
        "inicio\n",
        "escreva (\"Entre com o nome de um time de futebol: \")\n",
        "leia (time)\n",
        "escolha time\n",
        "caso \"Flamengo\", \"Fluminense\", \"Vasco\", \"Botafogo\"\n",
        "escreval (\"É um time carioca.\")\n",
        "caso \"São Paulo\", \"Palmeiras\", \"Santos\", \"Corínthians\"\n",
        "escreval (\"É um time paulista.\")\n",
        "outrocaso\n",
        "escreval (\"É de outro estado.\")\n",
        "fimescolha\n",
        "fimalgoritmo\n",
        "\"\"\")"
      ],
      "metadata": {
        "id": "sXLU3hgaXzxO"
      },
      "execution_count": 413,
      "outputs": []
    },
    {
      "cell_type": "code",
      "source": [
        "programas.append(\"\"\"\n",
        "algoritmo \"Números de 1 a 10 (com interrompa)\"\n",
        "var x: inteiro\n",
        "inicio\n",
        "x <- 0\n",
        "repita\n",
        "x <- x + 1\n",
        "escreva (x:3)\n",
        "se x = 10 entao\n",
        "interrompa\n",
        "fimse\n",
        "ate falso\n",
        "fimalgoritmo\n",
        "\"\"\")"
      ],
      "metadata": {
        "id": "onySwtQ1zn3q"
      },
      "execution_count": 414,
      "outputs": []
    },
    {
      "cell_type": "markdown",
      "source": [
        "#Parse"
      ],
      "metadata": {
        "id": "65vFWgrGqBKt"
      }
    },
    {
      "cell_type": "markdown",
      "source": [
        "##Funções de Parse e Constantes"
      ],
      "metadata": {
        "id": "Eyq6iumjw5GJ"
      }
    },
    {
      "cell_type": "code",
      "source": [
        "palavras_chave = {\n",
        "    \"inicio\" : \"fimalgoritmo\",\n",
        "    \"se\" : 'fimse',\n",
        "    \"para\" : 'fimpara',\n",
        "    \"enquanto\" : 'fimenquanto',\n",
        "    \"escolha\" : \"fimescolha\",\n",
        "    'repita' : 'ate',\n",
        "}"
      ],
      "metadata": {
        "id": "-cBX0G7SqEPZ"
      },
      "execution_count": 415,
      "outputs": []
    },
    {
      "cell_type": "code",
      "source": [
        "palavras_chave_fechamento = {}\n",
        "for palavra in palavras_chave:\n",
        "  palavras_chave_fechamento[palavras_chave[palavra]] = palavra"
      ],
      "metadata": {
        "id": "zGwy_DWxPEYr"
      },
      "execution_count": 416,
      "outputs": []
    },
    {
      "cell_type": "code",
      "source": [
        "tipos_variaveis = {\n",
        "    'inteiro' : 'int',\n",
        "    'real' : 'float',\n",
        "    'caractere' : 'char',\n",
        "    'logico' : 'bool',\n",
        "}"
      ],
      "metadata": {
        "id": "d_SzqFgIwiL2"
      },
      "execution_count": 417,
      "outputs": []
    },
    {
      "cell_type": "code",
      "source": [
        "mascaras_tipos_c = {\n",
        "    'int' : '%d',\n",
        "    'float' : '%f',\n",
        "    'char' : '%s',\n",
        "    'bool' : '%d',\n",
        "}"
      ],
      "metadata": {
        "id": "VaWwVzHCATPg"
      },
      "execution_count": 418,
      "outputs": []
    },
    {
      "cell_type": "markdown",
      "source": [
        "```\n",
        "Tamanho máximo da string que o visualG suporta\n",
        "```"
      ],
      "metadata": {
        "id": "qDha_axBNpGe"
      }
    },
    {
      "cell_type": "code",
      "source": [
        "max_tam_string = 500 #@param {type:\"integer\"}"
      ],
      "metadata": {
        "cellView": "form",
        "id": "2RBuNyjXMMFE"
      },
      "execution_count": 419,
      "outputs": []
    },
    {
      "cell_type": "markdown",
      "source": [
        "###Sub-parces"
      ],
      "metadata": {
        "id": "eogmVuXH_Lu8"
      }
    },
    {
      "cell_type": "markdown",
      "source": [
        "###Apelidos: Utilizados em um simples replace"
      ],
      "metadata": {
        "id": "x0ySjyxe_Hh8"
      }
    },
    {
      "cell_type": "code",
      "source": [
        "apelidos = {\n",
        "    '=' : '==',\n",
        "    '<>' : '!=',\n",
        "    '\\\\' : '/',\n",
        "    'mod' : '%',\n",
        "    'div' : '/',\n",
        "    '<-' : '=',\n",
        "    'limpatela' : '',\n",
        "    'falso': 'false',\n",
        "    'verdadeiro' : 'true',\n",
        "    'arcsen' : 'asen',\n",
        "    'arccos' : 'acos',\n",
        "    'arctan' : 'atan',\n",
        "    'cotan' : 'ctan',\n",
        "    'logn' : 'log',\n",
        "    'raizq' : 'sqrt',\n",
        "    'exp' : 'pow',\n",
        "    'caracpnum' : 'atoi',\n",
        "    'numpcarac' : 'itoa',\n",
        "    'compr'  : 'strlen',\n",
        "    'copia'  : 'strcpy',\n",
        "    'maiusc' : 'upper',\n",
        "    'minusc' : 'lower',\n",
        "}"
      ],
      "metadata": {
        "id": "vklOPIb-8y1M"
      },
      "execution_count": 420,
      "outputs": []
    },
    {
      "cell_type": "markdown",
      "source": [
        "###Regex"
      ],
      "metadata": {
        "id": "qHV7Mjbn_Pho"
      }
    },
    {
      "cell_type": "code",
      "source": [
        "vetor_mask = re.compile(r'(.*): *vetor *\\[(.*)\\] * de * (\\w+)')\n",
        "var_mask = re.compile(r'(.*) *: *(\\w+)')\n",
        "potencia_mask = re.compile(r'([^\\^]+)\\^([^\\-\\+\\*\\\\]+)') #pow([0],[1])\n",
        "parametros_mask = re.compile(r'\\(([^\\)]*)\\)')\n",
        "para_mask = re.compile(r\"para *([^ ]+) *de *([^ ]+) *ate *([^ ]+) faca\")\n",
        "se_mask = re.compile(r\"se *(.*) *entao\")\n",
        "string_mask = re.compile(r'\\\"([^\\\"]+)\\\"')"
      ],
      "metadata": {
        "id": "vZnDKLzixmTx"
      },
      "execution_count": 421,
      "outputs": []
    },
    {
      "cell_type": "markdown",
      "source": [
        "###Utilidades"
      ],
      "metadata": {
        "id": "dPKR1J_UWYS7"
      }
    },
    {
      "cell_type": "code",
      "source": [
        "def eh_funcao(linha, parenteses = True):\n",
        "  func_name = inspect.stack()[1].function.replace('parse_','')\n",
        "  if(parenteses):\n",
        "    try:\n",
        "      params = parametros_mask.findall(linha)[0]\n",
        "    except:\n",
        "      raise Exception(\"[%s]: Erro de sintaxe em <%s>\"%(func_name,linha))\n",
        "  else:\n",
        "    params = linha[len(func_name):]\n",
        "  return (func_name == linha[:len(func_name)]),func_name, params"
      ],
      "metadata": {
        "id": "yT16tAJHTaq-"
      },
      "execution_count": 422,
      "outputs": []
    },
    {
      "cell_type": "code",
      "source": [
        "def nome_variavel(nome):\n",
        "  idx = nome.find('[')\n",
        "  if(idx > 0):\n",
        "    return nome[:idx]\n",
        "  return nome"
      ],
      "metadata": {
        "id": "LgyNptRFWbZL"
      },
      "execution_count": 423,
      "outputs": []
    },
    {
      "cell_type": "markdown",
      "source": [
        "###Casos especiais"
      ],
      "metadata": {
        "id": "iHhhoi78_Rgs"
      }
    },
    {
      "cell_type": "markdown",
      "source": [
        "####Base"
      ],
      "metadata": {
        "id": "YUz9AZPUU6rX"
      }
    },
    {
      "cell_type": "code",
      "source": [
        "def parse_inicio(linha, n_vars, t_vars):\n",
        "  linha = linha.strip()\n",
        "  eh,_,_ = eh_funcao(linha, False)\n",
        "  if(not eh):\n",
        "    return None\n",
        "  \n",
        "  ret = \"\"\"\n",
        "#include <stdio.h>\n",
        "#include <stdlib.h>\n",
        "#include <stdbool.h>\n",
        "#include <string.h>\n",
        "#include <math.h>\n",
        "#include <time.h>\n",
        "#include <ctype.h>\n",
        "\n",
        "#define PI 3.141592\n",
        "\n",
        "void upper(char * v){ int i; for(i = 0; i < strlen(v); i++) v[i] = toupper(v[i]); }\n",
        "void lower(char * v){ int i; for(i = 0; i < strlen(v); i++) v[i] = tolower(v[i]); }\n",
        "\n",
        "int main() {\n",
        "\n",
        "\\tsrand(time(NULL));\n",
        "\"\"\"\n",
        "\n",
        "  for tipo in t_vars:\n",
        "    ret += '\\t'+tipo + ' '\n",
        "    for i in range(0,len(t_vars[tipo]), 5):\n",
        "       ret += ', '.join(t_vars[tipo][i:i+5])\n",
        "    ret += ';\\n'\n",
        "  \n",
        "  ret += '\\n'.join(['\\tmemset(&%s, 0, sizeof(%s));'%(nome,nome) for nome in n_vars])\n",
        "\n",
        "  return [ret+'\\n']"
      ],
      "metadata": {
        "id": "u1A5V_F2ZUT8"
      },
      "execution_count": 424,
      "outputs": []
    },
    {
      "cell_type": "code",
      "source": [
        "def parse_fimalgoritmo(linha, _, __):\n",
        "  linha = linha.strip()\n",
        "  eh,_,_ = eh_funcao(linha, False)\n",
        "  if(not eh):\n",
        "    return None\n",
        "  return [\"\"\"\n",
        "  return 0;\n",
        "}\n",
        "\"\"\"]"
      ],
      "metadata": {
        "id": "1Ma45_BAZemz"
      },
      "execution_count": 425,
      "outputs": []
    },
    {
      "cell_type": "markdown",
      "source": [
        "####Entrada & Saída"
      ],
      "metadata": {
        "id": "DBaLzDnGU4p-"
      }
    },
    {
      "cell_type": "code",
      "source": [
        "def parse_escreva(linha, n_vars, _):\n",
        "  linha = linha.strip()\n",
        "  eh,nome,params = eh_funcao(linha)\n",
        "  if(not eh):\n",
        "    return None\n",
        "  pula_linha = ('escreval' == linha[:len('escreval')])\n",
        "  printf_params = \"\"\n",
        "  vars = []\n",
        "\n",
        "  #primeiro isola as strings\n",
        "  strs = string_mask.findall(params)\n",
        "  for i,s in enumerate(strs):\n",
        "    params = params.replace(s,'{%d}'%i)\n",
        "  \n",
        "  mask = None\n",
        "  #agora realiza as outras operacoes\n",
        "  for param in params.split(','):\n",
        "    param = param.strip()\n",
        "    nome = nome_variavel(param)\n",
        "    if(':' in nome):\n",
        "      nome = nome.split(':')\n",
        "      nome,mask = nome[0],'.'.join(nome[1:])\n",
        "      idx = param.find(':')\n",
        "      param = param[:idx]\n",
        "    if(nome in n_vars):\n",
        "      if(mask):\n",
        "        printf_params += '%'+mask+mascaras_tipos_c[n_vars[nome]].replace('%','')\n",
        "      else:\n",
        "        printf_params += mascaras_tipos_c[n_vars[nome]]\n",
        "      vars.append(param)\n",
        "    elif(param[0] == '\"'):\n",
        "      printf_params += strs[int(param[2:-2])]\n",
        "    else:\n",
        "      raise Exception(\"[%s]: Variavel <%s> não existe!!\"%(nome,param))\n",
        "  \n",
        "  if(pula_linha):\n",
        "    printf_params += '\\\\n'\n",
        "\n",
        "  printf_params += '\"'\n",
        "  if(vars):\n",
        "    printf_params += ', '+', '.join(vars)\n",
        "  \n",
        "  return [('printf(\"%s);'%printf_params)]"
      ],
      "metadata": {
        "id": "V0JSa7kq-3Ef"
      },
      "execution_count": 426,
      "outputs": []
    },
    {
      "cell_type": "code",
      "source": [
        "parse_escreval = parse_escreva"
      ],
      "metadata": {
        "id": "6gpsOqzZZun3"
      },
      "execution_count": 427,
      "outputs": []
    },
    {
      "cell_type": "code",
      "source": [
        "def parse_leia(linha, n_vars, _):\n",
        "  linha = linha.strip()\n",
        "  eh,_,params = eh_funcao(linha)\n",
        "  if(not eh):\n",
        "    return None\n",
        "  \n",
        "  scanf_params = \"\"\n",
        "  vars = []\n",
        "\n",
        "  for param in params.split(','):\n",
        "    param = param.strip()\n",
        "    nome = nome_variavel(param)\n",
        "    if(nome in n_vars):\n",
        "      scanf_params += mascaras_tipos_c[n_vars[nome]]\n",
        "      \n",
        "      if(n_vars[nome] == 'char'):\n",
        "        vars.append(param)\n",
        "      else:\n",
        "        vars.append(\"&\"+param)\n",
        "    else:\n",
        "      print(\"Variáveis do programa:\")\n",
        "      print(n_vars)\n",
        "      raise Exception(\"[Leia]: Variavel %s não existe!!\"%param)\n",
        "  \n",
        "\n",
        "  scanf_params += '\"'\n",
        "  if(vars):\n",
        "    scanf_params += ', '+', '.join(vars)\n",
        "  \n",
        "  return [('scanf(\"%s);'%scanf_params)]"
      ],
      "metadata": {
        "id": "3kgb1ZmGLU4E"
      },
      "execution_count": 428,
      "outputs": []
    },
    {
      "cell_type": "markdown",
      "source": [
        "####Condicional"
      ],
      "metadata": {
        "id": "PBdrT20jU2C_"
      }
    },
    {
      "cell_type": "code",
      "source": [
        "switches = []"
      ],
      "metadata": {
        "id": "dWkwXygRg1k6"
      },
      "execution_count": 429,
      "outputs": []
    },
    {
      "cell_type": "code",
      "source": [
        "def parse_escolha(linha, n_vars, _):\n",
        "  global switches\n",
        "  eh,_,_ = eh_funcao(linha, False)\n",
        "  if(not eh):\n",
        "    return None\n",
        "  switches.append({\"Var\" : None, \"Tipo\" : None, \"LastOpen\" : False})\n",
        "  switch = switches[-1]\n",
        "  switch[\"Var\"] = linha.split(' ')[-1].strip()\n",
        "  if(not switch[\"Var\"] in n_vars):\n",
        "    raise Exception(\"[Escolha]: Variável <%s> não encontrada!\"%switch['Var'])\n",
        "  switch[\"Tipo\"] = n_vars[switch[\"Var\"]]\n",
        "  if(switch[\"Tipo\"] == 'int'):\n",
        "    return [\"switch(%s)\"%switch[\"Var\"]]\n",
        "  elif(switch[\"Tipo\"] == 'float'):\n",
        "    raise Exception(\"[Escolha]: Variável <%s> não pode ser do tipo real!!\"%switch['Var'])\n",
        "  else:\n",
        "    return [\"\\n\"]"
      ],
      "metadata": {
        "id": "wipI8x4OX8lI"
      },
      "execution_count": 430,
      "outputs": []
    },
    {
      "cell_type": "code",
      "source": [
        "def parse_caso(linha, n_vars, _):\n",
        "  global switches\n",
        "  eh,nome,params = eh_funcao(linha, False)\n",
        "  if(not eh):\n",
        "    return None\n",
        "  switch = switches[-1]\n",
        "  cases = params.split(',')\n",
        "  ret = \"\"\n",
        "  # ====================================\n",
        "  if(switch[\"LastOpen\"]):\n",
        "    if(switch[\"Tipo\"] == 'int'):\n",
        "      ret = 'break;'\n",
        "    else:\n",
        "      ret = '} else '\n",
        "  else:\n",
        "    switch[\"LastOpen\"] = True\n",
        "  # ====================================\n",
        "  if(switch[\"Tipo\"] == 'int'):\n",
        "    return [ret+\"\\n\",'\\n'.join([\"case %s:\"%case for case in cases])]\n",
        "  else:\n",
        "    return [ret+'if(%s) {'%(' || '.join(['(memcmp(%s,%s,sizeof(%s)) == 0)'%(switch['Var'], case, case) for case in cases]))]"
      ],
      "metadata": {
        "id": "_rQhZ9-YfpTP"
      },
      "execution_count": 431,
      "outputs": []
    },
    {
      "cell_type": "code",
      "source": [
        "def parse_outrocaso(linha,_,__):\n",
        "  global switches\n",
        "  eh,_,_ = eh_funcao(linha, False)\n",
        "  if(not eh):\n",
        "    return None\n",
        "  switch = switches[-1]\n",
        "  if(switch['Tipo'] == 'int'):\n",
        "    return ['default:']\n",
        "  else:\n",
        "    return ['} else {']"
      ],
      "metadata": {
        "id": "enhSFcjrH-iW"
      },
      "execution_count": 432,
      "outputs": []
    },
    {
      "cell_type": "code",
      "source": [
        "def parse_se(linha, n_vars, _):\n",
        "  eh,_,_ = eh_funcao(linha, False)\n",
        "  if(not eh):\n",
        "    return None\n",
        "\n",
        "  try:\n",
        "    exp = se_mask.findall(linha)[0]\n",
        "  except:\n",
        "    raise Exception(\"[Se]: Erro de sintaxe em <%s>\"%linha)\n",
        "\n",
        "  return [('if (%s) {'%(exp))]"
      ],
      "metadata": {
        "id": "Ae6sIWvqcHOl"
      },
      "execution_count": 433,
      "outputs": []
    },
    {
      "cell_type": "markdown",
      "source": [
        "####Laço"
      ],
      "metadata": {
        "id": "vriusdWGUz7-"
      }
    },
    {
      "cell_type": "code",
      "source": [
        "def parse_para(linha, n_vars, _):\n",
        "  eh,_,_ = eh_funcao(linha, False)\n",
        "  if(not eh):\n",
        "    return None\n",
        "  \n",
        "  try:\n",
        "    var, inicio, fim = para_mask.findall(linha)[0]\n",
        "  except:\n",
        "    raise Exception(\"[Para]: Erro de sintaxe em <%s>\"%linha)\n",
        "\n",
        "  if(not nome_variavel(var) in n_vars):\n",
        "    raise Exception (\"[Para]: <%s> não declarada!!\"%var)\n",
        "  if(inicio > fim): #decrementa\n",
        "    return [('for(%s = %s; %s >= %s; %s--) {'%(var, inicio, var, fim, var))]\n",
        "  else:\n",
        "    return [('for(%s = %s; %s <= %s; %s++) {'%(var, inicio, var, fim, var))]"
      ],
      "metadata": {
        "id": "o19_0fLlTKjW"
      },
      "execution_count": 434,
      "outputs": []
    },
    {
      "cell_type": "code",
      "source": [
        "def parse_ate(linha, n_vars, __):\n",
        "  eh,nome,params = eh_funcao(linha, False)\n",
        "  if(not eh):\n",
        "    return None\n",
        "  \n",
        "  vars = {}\n",
        "  for name in n_vars:\n",
        "    vars[name] = 0\n",
        "  try:\n",
        "    eval(params.replace('false','False').replace('true','True'),{'__builtins__': None},vars)\n",
        "  except:\n",
        "    raise Exception(\"[Ate]: Erro de sintaxe em <%s> (Variável não existe?)\"%linha)\n",
        "\n",
        "  return [('} while(!(%s));'%(params))]"
      ],
      "metadata": {
        "id": "us55l7krz2L0"
      },
      "execution_count": 435,
      "outputs": []
    },
    {
      "cell_type": "code",
      "source": [
        "def parse_interrompa(linha,_,__):\n",
        "  eh,_,_ = eh_funcao(linha, False)\n",
        "  if(not eh):\n",
        "    return None\n",
        "  return ['break;']"
      ],
      "metadata": {
        "id": "t6UcRWQG51RB"
      },
      "execution_count": 436,
      "outputs": []
    },
    {
      "cell_type": "code",
      "source": [
        "def parse_repita(linha,_,__):\n",
        "  eh,_,_ = eh_funcao(linha, False)\n",
        "  if(not eh):\n",
        "    return None\n",
        "  return ['do {\\n']"
      ],
      "metadata": {
        "id": "aCHTw7w95183"
      },
      "execution_count": 437,
      "outputs": []
    },
    {
      "cell_type": "markdown",
      "source": [
        "####Matemática"
      ],
      "metadata": {
        "id": "aLB8HjlVUwbn"
      }
    },
    {
      "cell_type": "code",
      "source": [
        "def parse_randi(linha,_,__):\n",
        "  eh,_,params = eh_funcao(linha)\n",
        "  if(not eh):\n",
        "    return None\n",
        "  return ['(rand()%%%s)'%params]"
      ],
      "metadata": {
        "id": "h6-4wMyRUltH"
      },
      "execution_count": 438,
      "outputs": []
    },
    {
      "cell_type": "code",
      "source": [
        "def parse_rand(linha,_,__):\n",
        "  eh,_,_ = eh_funcao(linha, False)\n",
        "  if(not eh):\n",
        "    return None\n",
        "  return ['((rand()%32767)/32767.)']"
      ],
      "metadata": {
        "id": "ljGyGwqzVgdG"
      },
      "execution_count": 439,
      "outputs": []
    },
    {
      "cell_type": "code",
      "source": [
        "def parse_int(linha,_,__):\n",
        "  eh,_,params = eh_funcao(linha)\n",
        "  if(not eh):\n",
        "    return None\n",
        "  return ['((int)(%s))'%params]"
      ],
      "metadata": {
        "id": "SqK5x7fuWJ8Y"
      },
      "execution_count": 440,
      "outputs": []
    },
    {
      "cell_type": "code",
      "source": [
        "parse_asc = parse_int"
      ],
      "metadata": {
        "id": "SwIvs-G4YLQf"
      },
      "execution_count": 441,
      "outputs": []
    },
    {
      "cell_type": "code",
      "source": [
        "def parse_grauprad(linha,_,__):\n",
        "  eh,_,params = eh_funcao(linha)\n",
        "  if(not eh):\n",
        "    return None\n",
        "  return ['(%s * (PI/180.))'%params]"
      ],
      "metadata": {
        "id": "24f9n4QVWV3Y"
      },
      "execution_count": 442,
      "outputs": []
    },
    {
      "cell_type": "code",
      "source": [
        "def parse_asc(linha,_,__):\n",
        "  eh,_,params = eh_funcao(linha)\n",
        "  if(not eh):\n",
        "    return None\n",
        "  return ['(%s * (PI/180.))'%params]"
      ],
      "metadata": {
        "id": "Ri8R6JAnYFsY"
      },
      "execution_count": 443,
      "outputs": []
    },
    {
      "cell_type": "markdown",
      "source": [
        "###Outras funções"
      ],
      "metadata": {
        "id": "Ad79fVBN_Tqh"
      }
    },
    {
      "cell_type": "code",
      "source": [
        "def limpa_comentario(codigo):\n",
        "  codigo_final = \"\"\n",
        "\n",
        "  ignora = False\n",
        "  for idx in range(len(codigo)):\n",
        "    if(ignora):\n",
        "      if(codigo[idx] == '\\n'):\n",
        "        ignora = False\n",
        "    else:\n",
        "      if(codigo[idx:idx+2] == '//'):\n",
        "          ignora = True\n",
        "      else:\n",
        "        codigo_final += codigo[idx]\n",
        "\n",
        "  return codigo_final.replace('\\t',' ')"
      ],
      "metadata": {
        "id": "MtsXGHMDsIH3"
      },
      "execution_count": 444,
      "outputs": []
    },
    {
      "cell_type": "code",
      "source": [
        "def variaveis_globais(codigo):\n",
        "  #=====================================================================\n",
        "  def var_dict(v):\n",
        "    if(not v in t_vars):\n",
        "        t_vars[v] = []\n",
        "  #=====================================================================\n",
        "  t_vars = {} #tipo : nome\n",
        "  n_vars = {} #nome : tipo\n",
        "  escopo = codigo[:codigo.find('inicio')]\n",
        "  for nomes_var, tipo in var_mask.findall(escopo):\n",
        "  # ============ Variaveis simples =====================================\n",
        "    nomes_var, tipo = nomes_var.lower().replace('var ',''), tipo.lower()\n",
        "    if(tipo == 'vetor'):\n",
        "      continue #Tradados depois...\n",
        "    var_dict(tipos_variaveis[tipo])\n",
        "    #Tipo caractere no visual G é uma string\n",
        "    if(tipo == 'caractere'):\n",
        "      t_vars[tipos_variaveis[tipo]] += [var.strip()+'[%d]'%max_tam_string for var in nomes_var.split(',')]\n",
        "    else:\n",
        "      t_vars[tipos_variaveis[tipo]] += [var.strip() for var in nomes_var.split(',')]\n",
        "  # ============= Vetores ==============================================\n",
        "  for nomes_var, dimensoes, tipo in vetor_mask.findall(escopo):\n",
        "    tipo = tipo.lower()\n",
        "    dimensoes = ''.join(['[%s]'%v.split('..')[-1] for v in dimensoes.split(',')])\n",
        "    var_dict(tipos_variaveis[tipo])\n",
        "    t_vars[tipos_variaveis[tipo]] += [\"%s%s\"%(v.strip().lower(),dimensoes) for v in nomes_var.split(',')]\n",
        "    \n",
        "  \n",
        "  for tipo in t_vars:\n",
        "    for nome in t_vars[tipo]:\n",
        "      idx = nome.find('[')\n",
        "      if(idx > 0):\n",
        "        n_vars[nome[:idx]] = tipo\n",
        "      else:\n",
        "        n_vars[nome] = tipo\n",
        "  \n",
        "  return t_vars,n_vars"
      ],
      "metadata": {
        "id": "HMlDVvYswK6w"
      },
      "execution_count": 445,
      "outputs": []
    },
    {
      "cell_type": "markdown",
      "source": [
        "###Classe principal"
      ],
      "metadata": {
        "id": "702XtVlwH70O"
      }
    },
    {
      "cell_type": "code",
      "source": [
        "class VisualG2C():\n",
        "  def __init__(self, programa):\n",
        "    self.__stack = []\n",
        "    self.__programa = limpa_comentario(programa)\n",
        "    self.t_vars,self.n_vars = variaveis_globais(self.__programa)\n",
        "\n",
        "  def __parse_bloco(self, lin):\n",
        "    lin = lin.strip()\n",
        "    ret = None\n",
        "    tokens = (\n",
        "        lin\n",
        "        .lower()\n",
        "        .replace('(', ' ( ')\n",
        "        .replace(')', ' ) ')\n",
        "        .split(' ')\n",
        "    )\n",
        "    try:\n",
        "      ret = eval(\"parse_%s(lin, self.n_vars, self.t_vars)\"%tokens[0].lower())\n",
        "    except NameError:\n",
        "      ret = None\n",
        "    nv = len(self.__stack)\n",
        "    for token in tokens:\n",
        "      if(token == 'ate' and 'para' in tokens):\n",
        "        continue #Ignora esse...\n",
        "      if(token in palavras_chave_fechamento):\n",
        "        if(palavras_chave[self.__stack[-1]] == token):\n",
        "          self.__stack.pop()\n",
        "          nv -= 1\n",
        "        else:\n",
        "          print(self.__stack)\n",
        "          print(tokens)\n",
        "          raise Exception(\"[Bloco] Erro no delimitador <%s>\"%token)\n",
        "      if(token in palavras_chave):\n",
        "        self.__stack.append(token)\n",
        "    \n",
        "    \n",
        "    if(not ret and lin in palavras_chave_fechamento):\n",
        "      ret = '}'\n",
        "    return nv,ret\n",
        "      \n",
        "\n",
        "  def eval(self):\n",
        "    idx = self.__programa.find('inicio')\n",
        "    if(idx < 0):\n",
        "      raise Exception(\"[Eval]: Programa não possui <inicio>!!!\")\n",
        "\n",
        "    for valor in apelidos:\n",
        "      self.__programa = self.__programa.replace(valor,\" %s \"%apelidos[valor])\n",
        "\n",
        "    programa_C = [\"\"]\n",
        "    \n",
        "    for lin in self.__programa[idx:].split('\\n'):\n",
        "      nv, n_lins = self.__parse_bloco(lin)\n",
        "      \n",
        "      if(n_lins is None):\n",
        "        programa_C.append('\\t'*(nv))\n",
        "        programa_C[-1] += (lin)\n",
        "        if(' = ' in lin):\n",
        "          programa_C[-1] += ';'\n",
        "      else:\n",
        "        for p in n_lins:\n",
        "          programa_C.append('\\t'*(nv))\n",
        "          \n",
        "          if(('caso' in lin)):\n",
        "            programa_C[-1] += len(switches)*'\\b'\n",
        "          programa_C[-1] += (p)\n",
        "          \n",
        "      \n",
        "    if(len(self.__stack)):\n",
        "      print(self.__stack)\n",
        "      raise Exception(\"[Eval]: Erro de sintaxe em <%s>!!!\"%self.__stack[-1])\n",
        "\n",
        "    for linha in programa_C:\n",
        "      print(linha) \n",
        "    programa_C = '\\n'.join(programa_C).replace('\\b','')\n",
        "\n",
        "    return programa_C\n",
        "\n"
      ],
      "metadata": {
        "id": "25ZUr--tH7NI"
      },
      "execution_count": 446,
      "outputs": []
    },
    {
      "cell_type": "markdown",
      "source": [
        "#Exemplo"
      ],
      "metadata": {
        "id": "nEhwCiceLDB-"
      }
    },
    {
      "cell_type": "code",
      "source": [
        "for i,programa in enumerate(programas):\n",
        "  p = VisualG2C(programa)\n",
        "  with open((\"%03d\"%i)+nome_arq_c, 'w') as f:\n",
        "    f.write(p.eval())\n",
        "  print(\"Programa %03d salvo!\"%i)"
      ],
      "metadata": {
        "id": "Nv7hFSmgyq1j",
        "colab": {
          "base_uri": "https://localhost:8080/"
        },
        "outputId": "74a1715c-9717-43d2-cd6b-93e87dd0e4ed"
      },
      "execution_count": 447,
      "outputs": [
        {
          "output_type": "stream",
          "name": "stdout",
          "text": [
            "\n",
            "\n",
            "#include <stdio.h>\n",
            "#include <stdlib.h>\n",
            "#include <stdbool.h>\n",
            "#include <string.h>\n",
            "#include <math.h>\n",
            "#include <time.h>\n",
            "#include <ctype.h>\n",
            "\n",
            "#define PI 3.141592\n",
            "\n",
            "void upper(char * v){ int i; for(i = 0; i < strlen(v); i++) v[i] = toupper(v[i]); }\n",
            "void lower(char * v){ int i; for(i = 0; i < strlen(v); i++) v[i] = tolower(v[i]); }\n",
            "\n",
            "int main() {\n",
            "\n",
            "\tsrand(time(NULL));\n",
            "\tchar nome[500];\n",
            "\tint max, min, i, soma, numeros[5];\n",
            "\tfloat media, teste1[3][4], teste2[3][4], teste3[3][4], teste4[3][4];\n",
            "\tmemset(&nome, 0, sizeof(nome));\n",
            "\tmemset(&max, 0, sizeof(max));\n",
            "\tmemset(&min, 0, sizeof(min));\n",
            "\tmemset(&i, 0, sizeof(i));\n",
            "\tmemset(&soma, 0, sizeof(soma));\n",
            "\tmemset(&numeros, 0, sizeof(numeros));\n",
            "\tmemset(&media, 0, sizeof(media));\n",
            "\tmemset(&teste1, 0, sizeof(teste1));\n",
            "\tmemset(&teste2, 0, sizeof(teste2));\n",
            "\tmemset(&teste3, 0, sizeof(teste3));\n",
            "\tmemset(&teste4, 0, sizeof(teste4));\n",
            "\n",
            "\t\n",
            "\tprintf(\"Digite seu nome: \");\n",
            "\tscanf(\"%s\", nome);\n",
            "\t\n",
            "\tmax = numeros[1];;\n",
            "\tfor(i = 1; i <= 5; i++) {\n",
            "\t\tprintf(\"%s, digite o %do valor: \", nome, i);\n",
            "\t\tscanf(\"%d\", &numeros[i]);\n",
            "\t\t\n",
            "\t\t    soma  =  soma + numeros[i];;\n",
            "\t\t    media =  soma / 5;;\n",
            "\t\t\n",
            "\t\tif ((numeros[i] > max) ) {\n",
            "\t\t\t    max =  numeros[i];;\n",
            "\t\t}\n",
            "\t\t\n",
            "\t\t  min  =  numeros[1];;\n",
            "\t\tif ((numeros[i] < min) ) {\n",
            "\t\t\t    min  =  numeros[i];;\n",
            "\t\t}\n",
            "\t}\n",
            "\t\n",
            "\tprintf(\"maior numero: %d\\n\", max);\n",
            "\tprintf(\"menor numero: %d\\n\", min);\n",
            "\tprintf(\"Soma dos numeros digitados:%d\\n\", soma);\n",
            "\tprintf(\"Média dos numero digitados:%f\", media);\n",
            "\t\n",
            "\n",
            "  return 0;\n",
            "}\n",
            "\n",
            "\n",
            "Programa 000 salvo!\n",
            "\n",
            "\n",
            "#include <stdio.h>\n",
            "#include <stdlib.h>\n",
            "#include <stdbool.h>\n",
            "#include <string.h>\n",
            "#include <math.h>\n",
            "#include <time.h>\n",
            "#include <ctype.h>\n",
            "\n",
            "#define PI 3.141592\n",
            "\n",
            "void upper(char * v){ int i; for(i = 0; i < strlen(v); i++) v[i] = toupper(v[i]); }\n",
            "void lower(char * v){ int i; for(i = 0; i < strlen(v); i++) v[i] = tolower(v[i]); }\n",
            "\n",
            "int main() {\n",
            "\n",
            "\tsrand(time(NULL));\n",
            "\tchar time[500];\n",
            "\tmemset(&time, 0, sizeof(time));\n",
            "\n",
            "\tprintf(\"Entre com o nome de um time de futebol: \");\n",
            "\tscanf(\"%s\", time);\n",
            "\t\n",
            "\n",
            "\t\t\bif((memcmp(time, \"Flamengo\",sizeof( \"Flamengo\")) == 0) || (memcmp(time, \"Fluminense\",sizeof( \"Fluminense\")) == 0) || (memcmp(time, \"Vasco\",sizeof( \"Vasco\")) == 0) || (memcmp(time, \"Botafogo\",sizeof( \"Botafogo\")) == 0)) {\n",
            "\t\tprintf(\"É um time carioca.\\n\");\n",
            "\t\t\b} else if((memcmp(time, \"São Paulo\",sizeof( \"São Paulo\")) == 0) || (memcmp(time, \"Palmeiras\",sizeof( \"Palmeiras\")) == 0) || (memcmp(time, \"Santos\",sizeof( \"Santos\")) == 0) || (memcmp(time, \"Corínthians\",sizeof( \"Corínthians\")) == 0)) {\n",
            "\t\tprintf(\"É um time paulista.\\n\");\n",
            "\t\t\b} else {\n",
            "\t\tprintf(\"É de outro estado.\\n\");\n",
            "\t}\n",
            "\n",
            "  return 0;\n",
            "}\n",
            "\n",
            "\n",
            "Programa 001 salvo!\n",
            "\n",
            "\n",
            "#include <stdio.h>\n",
            "#include <stdlib.h>\n",
            "#include <stdbool.h>\n",
            "#include <string.h>\n",
            "#include <math.h>\n",
            "#include <time.h>\n",
            "#include <ctype.h>\n",
            "\n",
            "#define PI 3.141592\n",
            "\n",
            "void upper(char * v){ int i; for(i = 0; i < strlen(v); i++) v[i] = toupper(v[i]); }\n",
            "void lower(char * v){ int i; for(i = 0; i < strlen(v); i++) v[i] = tolower(v[i]); }\n",
            "\n",
            "int main() {\n",
            "\n",
            "\tsrand(time(NULL));\n",
            "\tint x;\n",
            "\tmemset(&x, 0, sizeof(x));\n",
            "\n",
            "\tx  =  0;\n",
            "\tdo {\n",
            "\n",
            "\t\tx  =  x + 1;\n",
            "\t\tprintf(\"%3d\", x);\n",
            "\t\tif (x  ==  10 ) {\n",
            "\t\t\tbreak;\n",
            "\t\t}\n",
            "\t} while(!(  false));\n",
            "\n",
            "  return 0;\n",
            "}\n",
            "\n",
            "\n",
            "Programa 002 salvo!\n"
          ]
        }
      ]
    },
    {
      "cell_type": "code",
      "source": [
        "for i in range(len(programas)):\n",
        "  f_name = (\"%03d\"%i)+nome_arq_c\n",
        "  !gcc $f_name -o teste\n",
        "  print('\\n')\n",
        "  print(\"=\"*40)\n",
        "  !./teste"
      ],
      "metadata": {
        "colab": {
          "base_uri": "https://localhost:8080/"
        },
        "id": "gzIkY-FakWDV",
        "outputId": "072b0da1-8df6-4200-ec76-95728c22884c"
      },
      "execution_count": 448,
      "outputs": [
        {
          "output_type": "stream",
          "name": "stdout",
          "text": [
            "\n",
            "\n",
            "========================================\n",
            "Digite seu nome: Guilherme\n",
            "Guilherme, digite o 1o valor: 3\n",
            "Guilherme, digite o 2o valor: 6\n",
            "Guilherme, digite o 3o valor: 23\n",
            "Guilherme, digite o 4o valor: 1\n",
            "Guilherme, digite o 5o valor: 5\n",
            "maior numero: 23\n",
            "menor numero: 3\n",
            "Soma dos numeros digitados:38\n",
            "Média dos numero digitados:7.000000\n",
            "\n",
            "========================================\n",
            "Entre com o nome de um time de futebol: Santos\n",
            "É um time paulista.\n",
            "\n",
            "\n",
            "========================================\n",
            "  1  2  3  4  5  6  7  8  9 10"
          ]
        }
      ]
    }
  ]
}