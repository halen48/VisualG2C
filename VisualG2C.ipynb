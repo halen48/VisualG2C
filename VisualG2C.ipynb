{
  "nbformat": 4,
  "nbformat_minor": 0,
  "metadata": {
    "colab": {
      "name": "VisualG2C.ipynb",
      "provenance": [],
      "collapsed_sections": [
        "dPKR1J_UWYS7"
      ],
      "toc_visible": true,
      "include_colab_link": true
    },
    "kernelspec": {
      "name": "python3",
      "display_name": "Python 3"
    },
    "language_info": {
      "name": "python"
    }
  },
  "cells": [
    {
      "cell_type": "markdown",
      "metadata": {
        "id": "view-in-github",
        "colab_type": "text"
      },
      "source": [
        "<a href=\"https://colab.research.google.com/github/halen48/VisualG2C/blob/main/VisualG2C.ipynb\" target=\"_parent\"><img src=\"https://colab.research.google.com/assets/colab-badge.svg\" alt=\"Open In Colab\"/></a>"
      ]
    },
    {
      "cell_type": "code",
      "source": [
        "import re"
      ],
      "metadata": {
        "id": "aouHrkQpxj_t"
      },
      "execution_count": 477,
      "outputs": []
    },
    {
      "cell_type": "code",
      "source": [
        "nome_arq_c = \"arquivo.c\" #@param"
      ],
      "metadata": {
        "cellView": "form",
        "id": "dcvNKoKPkcHL"
      },
      "execution_count": 478,
      "outputs": []
    },
    {
      "cell_type": "markdown",
      "source": [
        "#Programa"
      ],
      "metadata": {
        "id": "eOMPbsivp4rE"
      }
    },
    {
      "cell_type": "code",
      "execution_count": 479,
      "metadata": {
        "id": "FU_8n8Q5pLtr"
      },
      "outputs": [],
      "source": [
        "programa = \"\"\"\n",
        "algoritmo \"Calculos de numeros\"\n",
        "// Função : Exibe informações como o maior, menor número, a média e a sua soma\n",
        "// Autor : Guilherme Novaes\n",
        "// Data : 11/03/2022\n",
        "// Seção de Declarações\n",
        "var\n",
        "numeros: vetor [1..5] de inteiro\n",
        "teste1,teste2,teste3, teste4 : vetor [1..3,1..4] de real\n",
        "nome : caractere\n",
        "max, min,i,soma:inteiro\n",
        "media : real\n",
        "inicio\n",
        "// Seção de Comandos\n",
        "\n",
        "escreva(\"Digite seu nome: \")\n",
        "leia(nome)\n",
        "\n",
        "max<-numeros[1];\n",
        "para i de 1 ate 5 faca\n",
        "  escreva (nome, \", digite o \", i,\"o valor: \")\n",
        "  leia(numeros[i])\n",
        "\n",
        "  // soma dos valores digitados\n",
        "  soma <- soma + numeros[i];\n",
        "  //media entre os valores digitados\n",
        "  media<- soma / 5;\n",
        "\n",
        "  se (numeros[i] > max) entao\n",
        "    max<- numeros[i];\n",
        "  fimse\n",
        "\n",
        "  min <- numeros[1];\n",
        "  se (numeros[i] < min) entao\n",
        "    min <- numeros[i];\n",
        "  fimse\n",
        "fimpara\n",
        "\n",
        "escreval (\"maior numero: \", max)\n",
        "escreval (\"menor numero: \",min)\n",
        "escreval(\"Soma dos numeros digitados:\",soma)\n",
        "escreva (\"Média dos numero digitados:\", media)\n",
        "\n",
        "fimalgoritmo\n",
        "\"\"\""
      ]
    },
    {
      "cell_type": "markdown",
      "source": [
        "#Parse"
      ],
      "metadata": {
        "id": "65vFWgrGqBKt"
      }
    },
    {
      "cell_type": "markdown",
      "source": [
        "##Funções de Parse e Constantes"
      ],
      "metadata": {
        "id": "Eyq6iumjw5GJ"
      }
    },
    {
      "cell_type": "code",
      "source": [
        "palavras_chave = {\n",
        "    \"inicio\" : \"fimalgoritmo\",\n",
        "    \"se\" : 'fimse',\n",
        "    \"para\" : 'fimpara',\n",
        "    \"enquanto\" : 'fimenquanto',\n",
        "    \"escolha\" : \"fimescolha\"\n",
        "}"
      ],
      "metadata": {
        "id": "-cBX0G7SqEPZ"
      },
      "execution_count": 480,
      "outputs": []
    },
    {
      "cell_type": "code",
      "source": [
        "palavras_chave_fechamento = {}\n",
        "for palavra in palavras_chave:\n",
        "  palavras_chave_fechamento[palavras_chave[palavra]] = palavra"
      ],
      "metadata": {
        "id": "zGwy_DWxPEYr"
      },
      "execution_count": 481,
      "outputs": []
    },
    {
      "cell_type": "code",
      "source": [
        "tipos_variaveis = {\n",
        "    'inteiro' : 'int',\n",
        "    'real' : 'float',\n",
        "    'caractere' : 'char',\n",
        "    'logico' : 'bool',\n",
        "}"
      ],
      "metadata": {
        "id": "d_SzqFgIwiL2"
      },
      "execution_count": 482,
      "outputs": []
    },
    {
      "cell_type": "code",
      "source": [
        "mascaras_tipos_c = {\n",
        "    'int' : '%d',\n",
        "    'float' : '%f',\n",
        "    'char' : '%s',\n",
        "    'bool' : '%d',\n",
        "}"
      ],
      "metadata": {
        "id": "VaWwVzHCATPg"
      },
      "execution_count": 483,
      "outputs": []
    },
    {
      "cell_type": "markdown",
      "source": [
        "```\n",
        "Tamanho máximo da string que o visualG suporta\n",
        "```"
      ],
      "metadata": {
        "id": "qDha_axBNpGe"
      }
    },
    {
      "cell_type": "code",
      "source": [
        "max_tam_string = 500 #@param {type:\"integer\"}"
      ],
      "metadata": {
        "cellView": "form",
        "id": "2RBuNyjXMMFE"
      },
      "execution_count": 484,
      "outputs": []
    },
    {
      "cell_type": "markdown",
      "source": [
        "###Sub-parces"
      ],
      "metadata": {
        "id": "eogmVuXH_Lu8"
      }
    },
    {
      "cell_type": "markdown",
      "source": [
        "###Apelidos: Utilizados em um simples replace"
      ],
      "metadata": {
        "id": "x0ySjyxe_Hh8"
      }
    },
    {
      "cell_type": "code",
      "source": [
        "apelidos = {\n",
        "    '=' : '==',\n",
        "    '<>' : '!=',\n",
        "    '\\\\' : '/',\n",
        "    'mod' : '%',\n",
        "    'div' : '/',\n",
        "    '<-' : '=',\n",
        "    'limpatela' : '',\n",
        "}"
      ],
      "metadata": {
        "id": "vklOPIb-8y1M"
      },
      "execution_count": 485,
      "outputs": []
    },
    {
      "cell_type": "markdown",
      "source": [
        "###Regex"
      ],
      "metadata": {
        "id": "qHV7Mjbn_Pho"
      }
    },
    {
      "cell_type": "code",
      "source": [
        "vetor_mask = re.compile(r'(.*): *vetor *\\[(.*)\\] * de * (\\w+)')\n",
        "var_mask = re.compile(r'(.*) *: *(\\w+)')\n",
        "potencia_mask = re.compile(r'([^\\^]+)\\^([^\\-\\+\\*\\\\]+)') #pow([0],[1])\n",
        "parametros_mask = re.compile(r'\\(([^\\)]*)\\)')\n",
        "para_mask = re.compile(r\"para *([^ ]+) *de *([^ ]+) *ate *([^ ]+) faca\")\n",
        "se_mask = re.compile(r\"se *(.*) *entao\")\n",
        "string_mask = re.compile(r'\\\"([^\\\"]+)\\\"')"
      ],
      "metadata": {
        "id": "vZnDKLzixmTx"
      },
      "execution_count": 486,
      "outputs": []
    },
    {
      "cell_type": "markdown",
      "source": [
        "###Utilidades"
      ],
      "metadata": {
        "id": "dPKR1J_UWYS7"
      }
    },
    {
      "cell_type": "code",
      "source": [
        "def eh_funcao(valor, linha):\n",
        "  return (valor == linha[:len(valor)])"
      ],
      "metadata": {
        "id": "yT16tAJHTaq-"
      },
      "execution_count": 487,
      "outputs": []
    },
    {
      "cell_type": "code",
      "source": [
        "def nome_variavel(nome):\n",
        "  idx = nome.find('[')\n",
        "  if(idx > 0):\n",
        "    return nome[:idx]\n",
        "  return nome"
      ],
      "metadata": {
        "id": "LgyNptRFWbZL"
      },
      "execution_count": 488,
      "outputs": []
    },
    {
      "cell_type": "markdown",
      "source": [
        "###Casos especiais"
      ],
      "metadata": {
        "id": "iHhhoi78_Rgs"
      }
    },
    {
      "cell_type": "code",
      "source": [
        "def parse_inicio(linha, n_vars, t_vars):\n",
        "  linha = linha.strip()\n",
        "  if(not eh_funcao('inicio', linha)):\n",
        "    return None\n",
        "  \n",
        "  ret = \"\"\"\n",
        "#include <stdio.h>\n",
        "#include <stdbool.h>\n",
        "#include <string.h>\n",
        "\n",
        "int main() {\n",
        "\"\"\"\n",
        "\n",
        "  for tipo in t_vars:\n",
        "    ret += '\\t'+tipo + ' '\n",
        "    for i in range(0,len(t_vars[tipo]), 5):\n",
        "       ret += ', '.join(t_vars[tipo][i:i+5])\n",
        "    ret += ';\\n'\n",
        "  \n",
        "  ret += '\\n'.join(['\\tmemset(&%s, 0, sizeof(%s));'%(nome,nome) for nome in n_vars])\n",
        "\n",
        "  return ret"
      ],
      "metadata": {
        "id": "u1A5V_F2ZUT8"
      },
      "execution_count": 489,
      "outputs": []
    },
    {
      "cell_type": "code",
      "source": [
        "def parse_fimalgoritmo(linha, _, __):\n",
        "  linha = linha.strip()\n",
        "  if(not eh_funcao('fimalgoritmo', linha)):\n",
        "    return None\n",
        "  return \"\"\"\n",
        "  return 0;\n",
        "}\n",
        "\"\"\""
      ],
      "metadata": {
        "id": "1Ma45_BAZemz"
      },
      "execution_count": 490,
      "outputs": []
    },
    {
      "cell_type": "code",
      "source": [
        "def parse_escreva(linha, n_vars, _):\n",
        "  linha = linha.strip()\n",
        "  if(not eh_funcao('escreva', linha)):\n",
        "    return None\n",
        "  pula_linha = ('escreval' == linha[:len('escreval')])\n",
        "  printf_params = \"\"\n",
        "  vars = []\n",
        "\n",
        "  try:\n",
        "    params = parametros_mask.findall(linha)[0]\n",
        "  except:\n",
        "    raise Exception(\"Erro de sintaxe em <%s>\"%linha)\n",
        "  #primeiro isola as strings\n",
        "  strs = string_mask.findall(params)\n",
        "  for i,s in enumerate(strs):\n",
        "    params = params.replace(s,'{%d}'%i)\n",
        "  #agora realiza as outras operacoes\n",
        "  for param in params.split(','):\n",
        "    param = param.strip()\n",
        "    nome = nome_variavel(param)\n",
        "    print(param, nome)\n",
        "    if(nome in n_vars):\n",
        "      printf_params += mascaras_tipos_c[n_vars[nome]]\n",
        "      vars.append(param)\n",
        "    elif(param[0] == '\"'):\n",
        "      printf_params += strs[int(param[2:-2])]\n",
        "    else:\n",
        "      print(linha)\n",
        "      raise Exception(\"Variavel %s não existe!!\"%param)\n",
        "  \n",
        "  if(pula_linha):\n",
        "    printf_params += '\\\\n'\n",
        "\n",
        "  printf_params += '\"'\n",
        "  if(vars):\n",
        "    printf_params += ', '+', '.join(vars)\n",
        "  \n",
        "  return ('printf(\"%s);'%printf_params)"
      ],
      "metadata": {
        "id": "V0JSa7kq-3Ef"
      },
      "execution_count": 491,
      "outputs": []
    },
    {
      "cell_type": "code",
      "source": [
        "parse_escreval = parse_escreva"
      ],
      "metadata": {
        "id": "6gpsOqzZZun3"
      },
      "execution_count": 492,
      "outputs": []
    },
    {
      "cell_type": "code",
      "source": [
        "def parse_leia(linha, n_vars, _):\n",
        "  linha = linha.strip()\n",
        "  if(not eh_funcao('leia', linha)):\n",
        "    return None\n",
        "  \n",
        "  scanf_params = \"\"\n",
        "  vars = []\n",
        "  try:\n",
        "    params = parametros_mask.findall(linha)[0]\n",
        "  except:\n",
        "    raise Exception(\"Erro de sintaxe em <%s>\"%linha)\n",
        "\n",
        "  for param in params.split(','):\n",
        "    param = param.strip()\n",
        "    nome = nome_variavel(param)\n",
        "    if(nome in n_vars):\n",
        "      scanf_params += mascaras_tipos_c[n_vars[nome]]\n",
        "      \n",
        "      if(n_vars[nome] == 'char'):\n",
        "        vars.append(param)\n",
        "      else:\n",
        "        vars.append(\"&\"+param)\n",
        "    else:\n",
        "      raise Exception(\"Variavel %s não existe!!\"%param)\n",
        "  \n",
        "\n",
        "  scanf_params += '\"'\n",
        "  if(vars):\n",
        "    scanf_params += ', '+', '.join(vars)\n",
        "  \n",
        "  return ('scanf(\"%s);'%scanf_params)"
      ],
      "metadata": {
        "id": "3kgb1ZmGLU4E"
      },
      "execution_count": 493,
      "outputs": []
    },
    {
      "cell_type": "code",
      "source": [
        "def parse_para(linha, n_vars, _):\n",
        "  if(not eh_funcao('para', linha)):\n",
        "    return None\n",
        "  \n",
        "  try:\n",
        "    var, inicio, fim = para_mask.findall(linha)[0]\n",
        "  except:\n",
        "    raise Exception(\"Erro de sintaxe em <%s>\"%linha)\n",
        "\n",
        "  if(not nome_variavel(var) in n_vars):\n",
        "    raise Exception (\"<%s> não declarada!!\"%var)\n",
        "  if(inicio > fim): #decrementa\n",
        "    return ('for(%s = %s; %s >= %s; %s--) {'%(var, inicio, var, fim, var))\n",
        "  else:\n",
        "    return ('for(%s = %s; %s <= %s; %s++) {'%(var, inicio, var, fim, var))"
      ],
      "metadata": {
        "id": "o19_0fLlTKjW"
      },
      "execution_count": 494,
      "outputs": []
    },
    {
      "cell_type": "code",
      "source": [
        "def parse_se(linha, n_vars, _):\n",
        "  if(not eh_funcao('se', linha)):\n",
        "    return None\n",
        "  \n",
        "  try:\n",
        "    exp = se_mask.findall(linha)[0]\n",
        "  except:\n",
        "    raise Exception(\"Erro de sintaxe em <%s>\"%linha)\n",
        "\n",
        "  return ('if (%s) {'%(exp))"
      ],
      "metadata": {
        "id": "Ae6sIWvqcHOl"
      },
      "execution_count": 495,
      "outputs": []
    },
    {
      "cell_type": "markdown",
      "source": [
        "###Outras funções"
      ],
      "metadata": {
        "id": "Ad79fVBN_Tqh"
      }
    },
    {
      "cell_type": "code",
      "source": [
        "def limpa_comentario(codigo):\n",
        "  codigo_final = \"\"\n",
        "\n",
        "  ignora = False\n",
        "  for idx in range(len(codigo)):\n",
        "    if(ignora):\n",
        "      if(codigo[idx] == '\\n'):\n",
        "        ignora = False\n",
        "    else:\n",
        "      if(codigo[idx:idx+2] == '//'):\n",
        "          ignora = True\n",
        "      else:\n",
        "        codigo_final += codigo[idx]\n",
        "\n",
        "  return codigo_final.replace('\\t',' ')"
      ],
      "metadata": {
        "id": "MtsXGHMDsIH3"
      },
      "execution_count": 496,
      "outputs": []
    },
    {
      "cell_type": "code",
      "source": [
        "def variaveis_globais(codigo):\n",
        "  #=====================================================================\n",
        "  def var_dict(v):\n",
        "    if(not v in t_vars):\n",
        "        t_vars[v] = []\n",
        "  #=====================================================================\n",
        "  t_vars = {} #tipo : nome\n",
        "  n_vars = {} #nome : tipo\n",
        "  escopo = codigo[:codigo.find('inicio')]\n",
        "  for nomes_var, tipo in var_mask.findall(escopo):\n",
        "  # ============ Variaveis simples =====================================\n",
        "    nomes_var, tipo = nomes_var.lower(), tipo.lower()\n",
        "    if(tipo == 'vetor'):  \n",
        "      continue #Tradados depois...\n",
        "    var_dict(tipos_variaveis[tipo])\n",
        "    #Tipo caractere no visual G é uma string\n",
        "    if(tipo == 'caractere'):\n",
        "      t_vars[tipos_variaveis[tipo]] += [var.strip()+'[%d]'%max_tam_string for var in nomes_var.split(',')]\n",
        "    else:\n",
        "      t_vars[tipos_variaveis[tipo]] += [var.strip() for var in nomes_var.split(',')]\n",
        "  # ============= Vetores ==============================================\n",
        "  for nomes_var, dimensoes, tipo in vetor_mask.findall(escopo):\n",
        "    tipo = tipo.lower()\n",
        "    dimensoes = ''.join(['[%s]'%v.split('..')[-1] for v in dimensoes.split(',')])\n",
        "    var_dict(tipos_variaveis[tipo])\n",
        "    t_vars[tipos_variaveis[tipo]] += [\"%s%s\"%(v.strip().lower(),dimensoes) for v in nomes_var.split(',')]\n",
        "    \n",
        "  \n",
        "  for tipo in t_vars:\n",
        "    for nome in t_vars[tipo]:\n",
        "      idx = nome.find('[')\n",
        "      if(idx > 0):\n",
        "        n_vars[nome[:idx]] = tipo\n",
        "      else:\n",
        "        n_vars[nome] = tipo\n",
        "  \n",
        "  return t_vars,n_vars"
      ],
      "metadata": {
        "id": "HMlDVvYswK6w"
      },
      "execution_count": 497,
      "outputs": []
    },
    {
      "cell_type": "markdown",
      "source": [
        "###Classe principal"
      ],
      "metadata": {
        "id": "702XtVlwH70O"
      }
    },
    {
      "cell_type": "code",
      "source": [
        "class VisualG2C():\n",
        "  def __init__(self, programa):\n",
        "    self.__stack = []\n",
        "    self.__programa = limpa_comentario(programa)\n",
        "    self.t_vars,self.n_vars = variaveis_globais(self.__programa)\n",
        "\n",
        "  def __parse_bloco(self, lin):\n",
        "    lin = lin.strip()\n",
        "    ret = None\n",
        "    tokens = (\n",
        "        lin\n",
        "        .replace('(', ' ( ')\n",
        "        .replace(')', ' ) ')\n",
        "        .split(' ')\n",
        "    )\n",
        "    try:\n",
        "      ret = eval(\"parse_%s(lin, self.n_vars, self.t_vars)\"%tokens[0].lower())\n",
        "    except NameError:\n",
        "      ret = None\n",
        "    nv = len(self.__stack)\n",
        "    for token in tokens:\n",
        "      token = token.lower()\n",
        "      if(token in palavras_chave_fechamento):\n",
        "        if(palavras_chave[self.__stack[-1]] == token):\n",
        "          self.__stack.pop()\n",
        "          nv -= 1\n",
        "        else:\n",
        "          print(palavras_chave[self.__stack[-1]])\n",
        "          raise Exception(\"Erro no delimitador <%s>\"%token)\n",
        "      if(token in palavras_chave):\n",
        "        self.__stack.append(token)\n",
        "    \n",
        "    \n",
        "    if(not ret and lin in palavras_chave_fechamento):\n",
        "      ret = '}'\n",
        "    return nv,ret\n",
        "      \n",
        "\n",
        "  def eval(self):\n",
        "    idx = self.__programa.find('inicio')\n",
        "    if(idx < 0):\n",
        "      raise Exception(\"Programa não possui <inicio>!!!\")\n",
        "\n",
        "    for valor in apelidos:\n",
        "      self.__programa = self.__programa.replace(valor,\" %s \"%apelidos[valor])\n",
        "\n",
        "    programa_C = [\"\"]\n",
        "    \n",
        "    for lin in self.__programa[idx:].split('\\n'):\n",
        "      nv, p = self.__parse_bloco(lin)\n",
        "      programa_C.append('\\t'*(nv))\n",
        "      if(p):\n",
        "        programa_C[-1] += (p)\n",
        "      else:\n",
        "        programa_C[-1] += (lin)\n",
        "      \n",
        "      \n",
        "\n",
        "    if(len(self.__stack)):\n",
        "      raise Exception(\"Erro de sintaxe em <%s>!!!\"%self.__stacK[-1])\n",
        "\n",
        "    for linha in programa_C:\n",
        "      print(linha) \n",
        "    programa_C = '\\n'.join(programa_C)\n",
        "\n",
        "    return programa_C\n",
        "\n"
      ],
      "metadata": {
        "id": "25ZUr--tH7NI"
      },
      "execution_count": 498,
      "outputs": []
    },
    {
      "cell_type": "markdown",
      "source": [
        "#Exemplo"
      ],
      "metadata": {
        "id": "nEhwCiceLDB-"
      }
    },
    {
      "cell_type": "code",
      "source": [
        "p = VisualG2C(programa)"
      ],
      "metadata": {
        "id": "Nv7hFSmgyq1j"
      },
      "execution_count": 499,
      "outputs": []
    },
    {
      "cell_type": "code",
      "source": [
        "with open(nome_arq_c, 'w') as f:\n",
        "  f.write(p.eval())"
      ],
      "metadata": {
        "colab": {
          "base_uri": "https://localhost:8080/"
        },
        "id": "KJWya3Lftt5a",
        "outputId": "76f8ece8-71bd-4cc3-dcb5-a9043d78a679"
      },
      "execution_count": 500,
      "outputs": [
        {
          "output_type": "stream",
          "name": "stdout",
          "text": [
            "\"{0}\" \"{0}\"\n",
            "nome nome\n",
            "\"{0}\" \"{0}\"\n",
            "i i\n",
            "\"{1}\" \"{1}\"\n",
            "\"{0}\" \"{0}\"\n",
            "max max\n",
            "\"{0}\" \"{0}\"\n",
            "min min\n",
            "\"{0}\" \"{0}\"\n",
            "soma soma\n",
            "\"{0}\" \"{0}\"\n",
            "media media\n",
            "\n",
            "\n",
            "#include <stdio.h>\n",
            "#include <stdbool.h>\n",
            "#include <string.h>\n",
            "\n",
            "int main() {\n",
            "\tchar nome[500];\n",
            "\tint max, min, i, soma, numeros[5];\n",
            "\tfloat media, teste1[3][4], teste2[3][4], teste3[3][4], teste4[3][4];\n",
            "\tmemset(&nome, 0, sizeof(nome));\n",
            "\tmemset(&max, 0, sizeof(max));\n",
            "\tmemset(&min, 0, sizeof(min));\n",
            "\tmemset(&i, 0, sizeof(i));\n",
            "\tmemset(&soma, 0, sizeof(soma));\n",
            "\tmemset(&numeros, 0, sizeof(numeros));\n",
            "\tmemset(&media, 0, sizeof(media));\n",
            "\tmemset(&teste1, 0, sizeof(teste1));\n",
            "\tmemset(&teste2, 0, sizeof(teste2));\n",
            "\tmemset(&teste3, 0, sizeof(teste3));\n",
            "\tmemset(&teste4, 0, sizeof(teste4));\n",
            "\t\n",
            "\tprintf(\"Digite seu nome: \");\n",
            "\tscanf(\"%s\", nome);\n",
            "\t\n",
            "\tmax = numeros[1];\n",
            "\tfor(i = 1; i <= 5; i++) {\n",
            "\t\tprintf(\"%s, digite o %do valor: \", nome, i);\n",
            "\t\tscanf(\"%d\", &numeros[i]);\n",
            "\t\t\n",
            "\t\t    soma  =  soma + numeros[i];\n",
            "\t\t    media =  soma / 5;\n",
            "\t\t\n",
            "\t\tif ((numeros[i] > max) ) {\n",
            "\t\t\t    max =  numeros[i];\n",
            "\t\t}\n",
            "\t\t\n",
            "\t\t  min  =  numeros[1];\n",
            "\t\tif ((numeros[i] < min) ) {\n",
            "\t\t\t    min  =  numeros[i];\n",
            "\t\t}\n",
            "\t}\n",
            "\t\n",
            "\tprintf(\"maior numero: %d\\n\", max);\n",
            "\tprintf(\"menor numero: %d\\n\", min);\n",
            "\tprintf(\"Soma dos numeros digitados:%d\\n\", soma);\n",
            "\tprintf(\"Média dos numero digitados:%f\", media);\n",
            "\t\n",
            "\n",
            "  return 0;\n",
            "}\n",
            "\n",
            "\n"
          ]
        }
      ]
    },
    {
      "cell_type": "code",
      "source": [
        "!gcc $nome_arq_c -o teste\n",
        "!./teste"
      ],
      "metadata": {
        "colab": {
          "base_uri": "https://localhost:8080/"
        },
        "id": "gzIkY-FakWDV",
        "outputId": "27e6be22-e053-49b3-9466-e3fca9e61d07"
      },
      "execution_count": 501,
      "outputs": [
        {
          "output_type": "stream",
          "name": "stdout",
          "text": [
            "Digite seu nome: Guilherme\n",
            "Guilherme, digite o 1o valor: 1\n",
            "Guilherme, digite o 2o valor: 2\n",
            "Guilherme, digite o 3o valor: 3\n",
            "Guilherme, digite o 4o valor: 4\n",
            "Guilherme, digite o 5o valor: 5\n",
            "maior numero: 5\n",
            "menor numero: 1\n",
            "Soma dos numeros digitados:15\n",
            "Média dos numero digitados:3.000000"
          ]
        }
      ]
    }
  ]
}