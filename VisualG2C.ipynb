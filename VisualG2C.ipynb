{
  "nbformat": 4,
  "nbformat_minor": 0,
  "metadata": {
    "colab": {
      "name": "VisualG2C.ipynb",
      "provenance": [],
      "collapsed_sections": [],
      "include_colab_link": true
    },
    "kernelspec": {
      "name": "python3",
      "display_name": "Python 3"
    },
    "language_info": {
      "name": "python"
    }
  },
  "cells": [
    {
      "cell_type": "markdown",
      "metadata": {
        "id": "view-in-github",
        "colab_type": "text"
      },
      "source": [
        "<a href=\"https://colab.research.google.com/github/halen48/VisualG2C/blob/main/VisualG2C.ipynb\" target=\"_parent\"><img src=\"https://colab.research.google.com/assets/colab-badge.svg\" alt=\"Open In Colab\"/></a>"
      ]
    },
    {
      "cell_type": "code",
      "source": [
        "#@title Dependências\n",
        "import re\n",
        "import inspect\n",
        "from google.colab import files\n",
        "import os\n",
        "import shutil"
      ],
      "metadata": {
        "id": "aouHrkQpxj_t",
        "cellView": "form"
      },
      "execution_count": 321,
      "outputs": []
    },
    {
      "cell_type": "code",
      "source": [
        "modo = 'Upload' #@param ['Upload', 'Exemplo']\n",
        "sufixo_arquivo_c = \".c\" #@param\n",
        "sufixo_arquivo_visgualg = \".alg\" #@param\n",
        "pasta_dos_exercicios = \"exercicios\" #@param\n"
      ],
      "metadata": {
        "cellView": "form",
        "id": "dcvNKoKPkcHL"
      },
      "execution_count": 322,
      "outputs": []
    },
    {
      "cell_type": "markdown",
      "source": [
        "#Programa"
      ],
      "metadata": {
        "id": "eOMPbsivp4rE"
      }
    },
    {
      "cell_type": "code",
      "source": [
        "programas_exemplos = []"
      ],
      "metadata": {
        "id": "ejj5hJP9ATra"
      },
      "execution_count": 323,
      "outputs": []
    },
    {
      "cell_type": "code",
      "execution_count": 324,
      "metadata": {
        "id": "FU_8n8Q5pLtr"
      },
      "outputs": [],
      "source": [
        "programas_exemplos.append(\"\"\"\n",
        "algoritmo \"Calculos de numeros\"\n",
        "// Função : Exibe informações como o maior, menor número, a média e a sua soma\n",
        "// Autor : Guilherme Novaes\n",
        "// Data : 11/03/2022\n",
        "// Seção de Declarações\n",
        "var\n",
        "numeros: vetor [1..5] de inteiro\n",
        "teste1,teste2,teste3, teste4 : vetor [1..3,1..4] de real\n",
        "nome : caractere\n",
        "max, min,i,soma:inteiro\n",
        "media : real\n",
        "inicio\n",
        "// Seção de Comandos\n",
        "\n",
        "escreva(\"Digite seu nome: \")\n",
        "leia(nome)\n",
        "\n",
        "max<-numeros[1];\n",
        "min<-numeros[1];\n",
        "para i de 1 ate 5 faca\n",
        "  escreva (nome, \", digite o \", i,\"o valor: \")\n",
        "  leia(numeros[i])\n",
        "\n",
        "  // soma dos valores digitados\n",
        "  soma <- soma + numeros[i];\n",
        "  //media entre os valores digitados\n",
        "  media<- soma / 5;\n",
        "\n",
        "  se (numeros[i] > max) entao\n",
        "    max<- numeros[i];\n",
        "  fimse\n",
        "\n",
        "  se (numeros[i] < min) entao\n",
        "    min <- numeros[i];\n",
        "  fimse\n",
        "fimpara\n",
        "\n",
        "escreval (\"maior numero: \", max)\n",
        "escreval (\"menor numero: \",min)\n",
        "escreval(\"Soma dos numeros digitados:\",soma)\n",
        "escreva (\"Média dos numero digitados:\", media)\n",
        "\n",
        "fimalgoritmo\n",
        "\"\"\")"
      ]
    },
    {
      "cell_type": "code",
      "source": [
        "programas_exemplos.append(\"\"\"\n",
        "algoritmo \"Times\"\n",
        "var time: caractere\n",
        "inicio\n",
        "escreva (\"Entre com o nome de um time de futebol: \")\n",
        "leia (time)\n",
        "escolha time\n",
        "caso \"Flamengo\", \"Fluminense\", \"Vasco\", \"Botafogo\"\n",
        "escreval (\"É um time carioca.\")\n",
        "caso \"São Paulo\", \"Palmeiras\", \"Santos\", \"Corínthians\"\n",
        "escreval (\"É um time paulista.\")\n",
        "outrocaso\n",
        "escreval (\"É de outro estado.\")\n",
        "fimescolha\n",
        "fimalgoritmo\n",
        "\"\"\")"
      ],
      "metadata": {
        "id": "sXLU3hgaXzxO"
      },
      "execution_count": 325,
      "outputs": []
    },
    {
      "cell_type": "code",
      "source": [
        "programas_exemplos.append(\"\"\"\n",
        "algoritmo \"Números de 1 a 10 (com interrompa)\"\n",
        "var x: inteiro\n",
        "inicio\n",
        "x <- 0\n",
        "repita\n",
        "x <- x + 1\n",
        "escreva (x:3)\n",
        "se x = 10 entao\n",
        "interrompa\n",
        "fimse\n",
        "ate falso\n",
        "fimalgoritmo\n",
        "\"\"\")"
      ],
      "metadata": {
        "id": "onySwtQ1zn3q"
      },
      "execution_count": 326,
      "outputs": []
    },
    {
      "cell_type": "markdown",
      "source": [
        "#Parse"
      ],
      "metadata": {
        "id": "65vFWgrGqBKt"
      }
    },
    {
      "cell_type": "markdown",
      "source": [
        "##Funções de Parse e Constantes"
      ],
      "metadata": {
        "id": "Eyq6iumjw5GJ"
      }
    },
    {
      "cell_type": "code",
      "source": [
        "palavras_chave = {\n",
        "    \"inicio\" : \"fimalgoritmo\",\n",
        "    \"se\" : 'fimse',\n",
        "    \"para\" : 'fimpara',\n",
        "    \"enquanto\" : 'fimenquanto',\n",
        "    \"escolha\" : \"fimescolha\",\n",
        "    'repita' : 'ate',\n",
        "}"
      ],
      "metadata": {
        "id": "-cBX0G7SqEPZ"
      },
      "execution_count": 327,
      "outputs": []
    },
    {
      "cell_type": "code",
      "source": [
        "palavras_chave_fechamento = {}\n",
        "for palavra in palavras_chave:\n",
        "  palavras_chave_fechamento[palavras_chave[palavra]] = palavra"
      ],
      "metadata": {
        "id": "zGwy_DWxPEYr"
      },
      "execution_count": 328,
      "outputs": []
    },
    {
      "cell_type": "code",
      "source": [
        "tipos_variaveis = {\n",
        "    'inteiro' : 'int',\n",
        "    'real' : 'float',\n",
        "    'caractere' : 'char',\n",
        "    'logico' : 'bool',\n",
        "}"
      ],
      "metadata": {
        "id": "d_SzqFgIwiL2"
      },
      "execution_count": 329,
      "outputs": []
    },
    {
      "cell_type": "code",
      "source": [
        "mascaras_tipos_c = {\n",
        "    'int' : '%d',\n",
        "    'float' : '%f',\n",
        "    'char' : '%s',\n",
        "    'bool' : '%d',\n",
        "}"
      ],
      "metadata": {
        "id": "VaWwVzHCATPg"
      },
      "execution_count": 330,
      "outputs": []
    },
    {
      "cell_type": "markdown",
      "source": [
        "```\n",
        "Tamanho máximo da string que o visualG suporta\n",
        "```"
      ],
      "metadata": {
        "id": "qDha_axBNpGe"
      }
    },
    {
      "cell_type": "code",
      "source": [
        "max_tam_string = 500 #@param {type:\"integer\"}"
      ],
      "metadata": {
        "cellView": "form",
        "id": "2RBuNyjXMMFE"
      },
      "execution_count": 331,
      "outputs": []
    },
    {
      "cell_type": "markdown",
      "source": [
        "###Sub-parces"
      ],
      "metadata": {
        "id": "eogmVuXH_Lu8"
      }
    },
    {
      "cell_type": "markdown",
      "source": [
        "###Apelidos: Utilizados em um simples replace"
      ],
      "metadata": {
        "id": "x0ySjyxe_Hh8"
      }
    },
    {
      "cell_type": "code",
      "source": [
        "apelidos = {\n",
        "    '=' : '==',\n",
        "    '<>' : '!=',\n",
        "    '\\\\' : '/',\n",
        "    ' mod ' : ' % ',\n",
        "    ' div ' : ' / ',\n",
        "    '<-' : '=',\n",
        "    'limpatela' : '',\n",
        "    'falso': 'false',\n",
        "    'verdadeiro' : 'true',\n",
        "    'arcsen' : 'asen',\n",
        "    'arccos' : 'acos',\n",
        "    'arctan' : 'atan',\n",
        "    'cotan' : 'ctan',\n",
        "    'logn' : 'log',\n",
        "    'raizq' : 'sqrt',\n",
        "    'exp' : 'pow',\n",
        "    'caracpnum' : 'atoi',\n",
        "    'numpcarac' : 'itoa',\n",
        "    'compr'  : 'strlen',\n",
        "    'copia'  : 'strcpy',\n",
        "    'maiusc' : 'upper',\n",
        "    'minusc' : 'lower',\n",
        "    'abs' : 'abs',\n",
        "}"
      ],
      "metadata": {
        "id": "vklOPIb-8y1M"
      },
      "execution_count": 332,
      "outputs": []
    },
    {
      "cell_type": "markdown",
      "source": [
        "###Regex"
      ],
      "metadata": {
        "id": "qHV7Mjbn_Pho"
      }
    },
    {
      "cell_type": "code",
      "source": [
        "vetor_mask = re.compile(r'(.*): *vetor *\\[(.*)\\] * de * (\\w+)')\n",
        "var_mask = re.compile(r'(.*) *: *(\\w+)')\n",
        "potencia_mask = re.compile(r'([^\\^]+)\\^([^\\-\\+\\*\\\\]+)') #pow([0],[1])\n",
        "parametros_mask = re.compile(r'\\((.*)\\)')\n",
        "para_mask = re.compile(r\"para (.*) de (.*) ate (.*) faca\")\n",
        "passo_mask = re.compile(r'(.*) passo (.*)')\n",
        "se_mask = re.compile(r\"se *(.*) *entao\")\n",
        "enquanto_mask = re.compile(r\"enquanto *(.*) *faca\")\n",
        "string_mask = re.compile(r'\\\"([^\\\"]+)\\\"')"
      ],
      "metadata": {
        "id": "vZnDKLzixmTx"
      },
      "execution_count": 333,
      "outputs": []
    },
    {
      "cell_type": "markdown",
      "source": [
        "###Utilidades"
      ],
      "metadata": {
        "id": "dPKR1J_UWYS7"
      }
    },
    {
      "cell_type": "code",
      "source": [
        "def eh_funcao(linha, parenteses = True):\n",
        "  func_name = inspect.stack()[1].function.replace('parse_','')\n",
        "  if(parenteses):\n",
        "    try:\n",
        "      params = parametros_mask.findall(linha)[0]\n",
        "    except:\n",
        "      raise Exception(\"[%s]: Erro de sintaxe em <%s>\"%(func_name,linha))\n",
        "  else:\n",
        "    params = linha[len(func_name):]\n",
        "  return (func_name == linha[:len(func_name)].lower()),func_name, params"
      ],
      "metadata": {
        "id": "yT16tAJHTaq-"
      },
      "execution_count": 334,
      "outputs": []
    },
    {
      "cell_type": "code",
      "source": [
        "def nome_variavel(nome):\n",
        "  idx = nome.find('[')\n",
        "  if(idx > 0):\n",
        "    return nome[:idx]\n",
        "  return nome"
      ],
      "metadata": {
        "id": "LgyNptRFWbZL"
      },
      "execution_count": 335,
      "outputs": []
    },
    {
      "cell_type": "markdown",
      "source": [
        "###Casos especiais"
      ],
      "metadata": {
        "id": "iHhhoi78_Rgs"
      }
    },
    {
      "cell_type": "markdown",
      "source": [
        "####Base"
      ],
      "metadata": {
        "id": "YUz9AZPUU6rX"
      }
    },
    {
      "cell_type": "code",
      "source": [
        "def parse_inicio(**kwargs):\n",
        "  t_vars, n_vars, linha = kwargs['t_vars'], kwargs['n_vars'], kwargs['linha']\n",
        "  eh,_,_ = eh_funcao(linha, False)\n",
        "  if(not eh):\n",
        "    return None\n",
        "  \n",
        "  ret = \"\"\"\n",
        "#include <stdio.h>\n",
        "#include <stdlib.h>\n",
        "#include <stdbool.h>\n",
        "#include <string.h>\n",
        "#include <math.h>\n",
        "#include <time.h>\n",
        "#include <ctype.h>\n",
        "\n",
        "#define PI 3.141592\n",
        "\\n\n",
        "\\n\n",
        "void upper(char * v){ int i; for(i = 0; i < strlen(v); i++) v[i] = toupper(v[i]); }\n",
        "void lower(char * v){ int i; for(i = 0; i < strlen(v); i++) v[i] = tolower(v[i]); }\n",
        "\\n\n",
        "int main() {\n",
        "\\tint loop__var___;\n",
        "\\tsrand(time(NULL));\n",
        "\\n\n",
        "\\n\n",
        "\"\"\"\n",
        "\n",
        "  for tipo in t_vars:\n",
        "    ret += '\\t'+tipo + ' '\n",
        "    for i in range(0,len(t_vars[tipo]), 5):\n",
        "       ret += ', '.join(t_vars[tipo][i:i+5])\n",
        "    ret += ';\\n'\n",
        "  \n",
        "  ret += '\\n'.join(['\\tmemset(&%s, 0, sizeof(%s));'%(nome,nome) for nome in n_vars])\n",
        "\n",
        "  return [ret+'\\n']"
      ],
      "metadata": {
        "id": "u1A5V_F2ZUT8"
      },
      "execution_count": 336,
      "outputs": []
    },
    {
      "cell_type": "code",
      "source": [
        "def parse_fimalgoritmo(**kwargs):\n",
        "  linha = kwargs['linha']\n",
        "  eh,_,_ = eh_funcao(linha, False)\n",
        "  if(not eh):\n",
        "    return None\n",
        "  return [\"\"\"\n",
        "\\treturn 0;\n",
        "}\n",
        "\"\"\"]"
      ],
      "metadata": {
        "id": "1Ma45_BAZemz"
      },
      "execution_count": 337,
      "outputs": []
    },
    {
      "cell_type": "markdown",
      "source": [
        "####Entrada & Saída"
      ],
      "metadata": {
        "id": "DBaLzDnGU4p-"
      }
    },
    {
      "cell_type": "code",
      "source": [
        "def parse_escreva(**kwargs):\n",
        "  linha, n_vars, ignorar_string = kwargs['linha'], kwargs['n_vars'], kwargs['ignorar_string']\n",
        "  eh,nome,params = eh_funcao(linha)\n",
        "  if(not eh):\n",
        "    return None\n",
        "  pula_linha = ('escreval' == linha[:len('escreval')])\n",
        "  printf_params = \"\"\n",
        "  vars = []\n",
        "\n",
        "  #primeiro isola as strings\n",
        "  strs = string_mask.findall(params)\n",
        "  for i,s in enumerate(strs):\n",
        "    params = params.replace(s,'{%d}'%i)\n",
        "  \n",
        "  mask = None\n",
        "  #agora realiza as outras operacoes\n",
        "  for param in params.split(','):\n",
        "    param = param.strip()\n",
        "    if(not len(param)):\n",
        "      param = ' '\n",
        "    else:\n",
        "      nome = nome_variavel(param)\n",
        "      if(':' in nome):\n",
        "        nome = nome.split(':')\n",
        "        nome,mask = nome[0],'.'.join(nome[1:])\n",
        "        idx = param.find(':')\n",
        "        param = param[:idx]\n",
        "    if(nome in n_vars):\n",
        "      if(mask):\n",
        "        printf_params += '%'+mask+mascaras_tipos_c[n_vars[nome]].replace('%','')\n",
        "      else:\n",
        "        printf_params += mascaras_tipos_c[n_vars[nome]]\n",
        "      vars.append(param)\n",
        "    elif(param[0] == '\"'):\n",
        "      printf_params += (' ' if(ignorar_string) else strs[int(param[2:-2])])\n",
        "  \n",
        "  if(pula_linha):\n",
        "    printf_params += '\\\\n'\n",
        "\n",
        "  printf_params += '\"'\n",
        "  if(vars):\n",
        "    printf_params += ', '+', '.join(vars)\n",
        "  \n",
        "  return [('printf(\"%s);'%printf_params)]"
      ],
      "metadata": {
        "id": "V0JSa7kq-3Ef"
      },
      "execution_count": 338,
      "outputs": []
    },
    {
      "cell_type": "code",
      "source": [
        "parse_escreval = parse_escreva"
      ],
      "metadata": {
        "id": "6gpsOqzZZun3"
      },
      "execution_count": 339,
      "outputs": []
    },
    {
      "cell_type": "code",
      "source": [
        "def parse_leia(**kwargs):\n",
        "  linha, n_vars = kwargs['linha'], kwargs['n_vars']\n",
        "  eh,_,params = eh_funcao(linha)\n",
        "  if(not eh):\n",
        "    return None\n",
        "  \n",
        "  scanf_params = \"\"\n",
        "  vars = []\n",
        "\n",
        "  for param in params.split(','):\n",
        "    param = param.strip()\n",
        "    nome = nome_variavel(param)\n",
        "    if(nome in n_vars):\n",
        "      scanf_params += mascaras_tipos_c[n_vars[nome]]\n",
        "      \n",
        "      if(n_vars[nome] == 'char'):\n",
        "        vars.append(param)\n",
        "      else:\n",
        "        vars.append(\"&\"+param)\n",
        "    else:\n",
        "      print(\"Variáveis do programa:\")\n",
        "      print(n_vars)\n",
        "      raise Exception(\"[Leia]: Variavel %s não existe!!\"%param)\n",
        "  \n",
        "\n",
        "  scanf_params += '\"'\n",
        "  if(vars):\n",
        "    scanf_params += ', '+', '.join(vars)\n",
        "  \n",
        "  return [('scanf(\"%s);'%scanf_params)]"
      ],
      "metadata": {
        "id": "3kgb1ZmGLU4E"
      },
      "execution_count": 340,
      "outputs": []
    },
    {
      "cell_type": "markdown",
      "source": [
        "####Condicional"
      ],
      "metadata": {
        "id": "PBdrT20jU2C_"
      }
    },
    {
      "cell_type": "code",
      "source": [
        "switches = []"
      ],
      "metadata": {
        "id": "dWkwXygRg1k6"
      },
      "execution_count": 341,
      "outputs": []
    },
    {
      "cell_type": "code",
      "source": [
        "def parse_escolha(**kwargs):\n",
        "  global switches\n",
        "  linha, n_vars = kwargs['linha'], kwargs['n_vars']\n",
        "  eh,_,_ = eh_funcao(linha, False)\n",
        "  if(not eh):\n",
        "    return None\n",
        "  switches.append({\"Var\" : None, \"Tipo\" : None, \"LastOpen\" : False})\n",
        "  switch = switches[-1]\n",
        "  switch[\"Var\"] = linha.split(' ')[-1].strip()\n",
        "  if(not switch[\"Var\"] in n_vars):\n",
        "    raise Exception(\"[Escolha]: Variável <%s> não encontrada!\"%switch['Var'])\n",
        "  switch[\"Tipo\"] = n_vars[switch[\"Var\"]]\n",
        "  if(switch[\"Tipo\"] == 'int'):\n",
        "    return [\"switch(%s)\"%switch[\"Var\"]]\n",
        "  elif(switch[\"Tipo\"] == 'float'):\n",
        "    raise Exception(\"[Escolha]: Variável <%s> não pode ser do tipo real!!\"%switch['Var'])\n",
        "  else:\n",
        "    return [\"\\n\"]"
      ],
      "metadata": {
        "id": "wipI8x4OX8lI"
      },
      "execution_count": 342,
      "outputs": []
    },
    {
      "cell_type": "code",
      "source": [
        "def parse_caso(**kwargs):\n",
        "  global switches\n",
        "  linha = kwargs['linha']\n",
        "  eh,nome,params = eh_funcao(linha, False)\n",
        "  if(not eh):\n",
        "    return None\n",
        "  switch = switches[-1]\n",
        "  cases = params.split(',')\n",
        "  ret = \"\"\n",
        "  # ====================================\n",
        "  if(switch[\"LastOpen\"]):\n",
        "    if(switch[\"Tipo\"] == 'int'):\n",
        "      ret = 'break;'\n",
        "    else:\n",
        "      ret = '} else '\n",
        "  else:\n",
        "    switch[\"LastOpen\"] = True\n",
        "  # ====================================\n",
        "  if(switch[\"Tipo\"] == 'int'):\n",
        "    return [ret+\"\\n\",'\\n'.join([\"case %s:\"%case for case in cases])]\n",
        "  else:\n",
        "    return [ret+'if(%s) {'%(' || '.join(['(memcmp(%s,%s,sizeof(%s)) == 0)'%(switch['Var'], case, case) for case in cases]))]"
      ],
      "metadata": {
        "id": "_rQhZ9-YfpTP"
      },
      "execution_count": 343,
      "outputs": []
    },
    {
      "cell_type": "code",
      "source": [
        "def parse_outrocaso(**kwargs):\n",
        "  global switches\n",
        "  linha = kwargs['linha']\n",
        "  eh,_,_ = eh_funcao(linha, False)\n",
        "  if(not eh):\n",
        "    return None\n",
        "  switch = switches[-1]\n",
        "  if(switch['Tipo'] == 'int'):\n",
        "    return ['default:']\n",
        "  else:\n",
        "    return ['} else {']"
      ],
      "metadata": {
        "id": "enhSFcjrH-iW"
      },
      "execution_count": 344,
      "outputs": []
    },
    {
      "cell_type": "code",
      "source": [
        "def parse_se(**kwargs):\n",
        "  linha = kwargs['linha']\n",
        "  eh,_,_ = eh_funcao(linha, False)\n",
        "  if(not eh):\n",
        "    return None\n",
        "  try:\n",
        "    exp = se_mask.findall(linha)[0]\n",
        "  except:\n",
        "    raise Exception(\"[Se]: Erro de sintaxe em <%s>\"%linha)\n",
        "\n",
        "  return [('if (%s) {'%(exp))]"
      ],
      "metadata": {
        "id": "Ae6sIWvqcHOl"
      },
      "execution_count": 345,
      "outputs": []
    },
    {
      "cell_type": "markdown",
      "source": [
        "####Laço"
      ],
      "metadata": {
        "id": "vriusdWGUz7-"
      }
    },
    {
      "cell_type": "code",
      "source": [
        "def parse_para(**kwargs):\n",
        "  linha, n_vars = kwargs['linha'], kwargs['n_vars']\n",
        "  eh,_,_ = eh_funcao(linha, False)\n",
        "  if(not eh):\n",
        "    return None\n",
        "  \n",
        "  try:\n",
        "    var, inicio, fim = para_mask.findall(linha)[0]\n",
        "  except:\n",
        "    raise Exception(\"[Para]: Erro de sintaxe em <%s>\"%linha)\n",
        "  \n",
        "  if('passo' in fim):\n",
        "    try:\n",
        "      fim, passo = passo_mask.findall(fim)[0]\n",
        "    except:\n",
        "      raise Exception(\"[Para]: Erro de sintaxe em <%s>\"%linha)\n",
        "  else:\n",
        "    passo = 1\n",
        "\n",
        "  if(not nome_variavel(var) in n_vars):\n",
        "    raise Exception (\"[Para]: <%s> não declarada!!\"%var)\n",
        "\n",
        "  #Aparentemente no visual G é algo assim. Se passo for 0, o visual G emite um erro...\n",
        "  return [('for(%s = %s, loop__var___ = 0; loop__var___ <= (%s-%s/%s); %s+=%s, loop__var___+=%s) {'%(var, inicio, fim, inicio, passo, var, passo, passo))]"
      ],
      "metadata": {
        "id": "o19_0fLlTKjW"
      },
      "execution_count": 346,
      "outputs": []
    },
    {
      "cell_type": "code",
      "source": [
        "def parse_ate(**kwargs):\n",
        "  linha, n_vars = kwargs['linha'], kwargs['n_vars']\n",
        "  eh,nome,params = eh_funcao(linha, False)\n",
        "  if(not eh):\n",
        "    return None\n",
        "  \n",
        "  vars = {}\n",
        "  for name in n_vars:\n",
        "    vars[name] = 0\n",
        "  try:\n",
        "    eval(params.replace('false','False').replace('true','True'),{'__builtins__': None},vars)\n",
        "  except:\n",
        "    pass\n",
        "    #raise Exception(\"[Ate]: Erro de sintaxe em <%s> (Variável não existe?)\"%linha)\n",
        "\n",
        "  return [('} while(!(%s));'%(params))]"
      ],
      "metadata": {
        "id": "us55l7krz2L0"
      },
      "execution_count": 347,
      "outputs": []
    },
    {
      "cell_type": "code",
      "source": [
        "def parse_interrompa(**kwargs):\n",
        "  linha = kwargs['linha']\n",
        "  eh,_,_ = eh_funcao(linha, False)\n",
        "  if(not eh):\n",
        "    return None\n",
        "  return ['break;']"
      ],
      "metadata": {
        "id": "t6UcRWQG51RB"
      },
      "execution_count": 348,
      "outputs": []
    },
    {
      "cell_type": "code",
      "source": [
        "def parse_repita(**kwargs):\n",
        "  linha = kwargs['linha']\n",
        "  eh,_,_ = eh_funcao(linha, False)\n",
        "  if(not eh):\n",
        "    return None\n",
        "  return ['do {\\n']"
      ],
      "metadata": {
        "id": "aCHTw7w95183"
      },
      "execution_count": 349,
      "outputs": []
    },
    {
      "cell_type": "code",
      "source": [
        "def parse_enquanto(**kwargs):\n",
        "  linha = kwargs['linha']\n",
        "  eh,_,_ = eh_funcao(linha, False)\n",
        "  if(not eh):\n",
        "    return None\n",
        "\n",
        "  try:\n",
        "    exp = enquanto_mask.findall(linha)[0]\n",
        "  except:\n",
        "    raise Exception(\"[Enquanto]: Erro de sintaxe em <%s>\"%linha)\n",
        "\n",
        "  return [('while (%s) {'%(exp))]"
      ],
      "metadata": {
        "id": "Pf_a5-DcQwcN"
      },
      "execution_count": 350,
      "outputs": []
    },
    {
      "cell_type": "markdown",
      "source": [
        "####Matemática"
      ],
      "metadata": {
        "id": "aLB8HjlVUwbn"
      }
    },
    {
      "cell_type": "code",
      "source": [
        "def parse_randi(**kwargs):\n",
        "  eh,_,params = eh_funcao(kwargs['linha'])\n",
        "  if(not eh):\n",
        "    return None\n",
        "  return ['(rand()%%%s)'%params]"
      ],
      "metadata": {
        "id": "h6-4wMyRUltH"
      },
      "execution_count": 351,
      "outputs": []
    },
    {
      "cell_type": "code",
      "source": [
        "def parse_rand(**kwargs):\n",
        "  eh,_,_ = eh_funcao(kwargs['linha'], False)\n",
        "  if(not eh):\n",
        "    return None\n",
        "  return ['((rand()%32767)/32767.)']"
      ],
      "metadata": {
        "id": "ljGyGwqzVgdG"
      },
      "execution_count": 352,
      "outputs": []
    },
    {
      "cell_type": "code",
      "source": [
        "def parse_int(**kwargs):\n",
        "  eh,_,params = eh_funcao(kwargs['linha'])\n",
        "  if(not eh):\n",
        "    return None\n",
        "  return ['((int)(%s))'%params]"
      ],
      "metadata": {
        "id": "SqK5x7fuWJ8Y"
      },
      "execution_count": 353,
      "outputs": []
    },
    {
      "cell_type": "code",
      "source": [
        "parse_asc = parse_int"
      ],
      "metadata": {
        "id": "SwIvs-G4YLQf"
      },
      "execution_count": 354,
      "outputs": []
    },
    {
      "cell_type": "code",
      "source": [
        "def parse_grauprad(**kwargs):\n",
        "  eh,_,params = eh_funcao(kwargs['linha'])\n",
        "  if(not eh):\n",
        "    return None\n",
        "  return ['(%s * (PI/180.))'%params]"
      ],
      "metadata": {
        "id": "24f9n4QVWV3Y"
      },
      "execution_count": 355,
      "outputs": []
    },
    {
      "cell_type": "code",
      "source": [
        "def parse_asc(**kwargs):\n",
        "  eh,_,params = eh_funcao(kwargs['linha'])\n",
        "  if(not eh):\n",
        "    return None\n",
        "  return ['(%s * (PI/180.))'%params]"
      ],
      "metadata": {
        "id": "Ri8R6JAnYFsY"
      },
      "execution_count": 356,
      "outputs": []
    },
    {
      "cell_type": "markdown",
      "source": [
        "###Outras funções"
      ],
      "metadata": {
        "id": "Ad79fVBN_Tqh"
      }
    },
    {
      "cell_type": "code",
      "source": [
        "def limpa_comentario(codigo):\n",
        "  codigo_final = \"\"\n",
        "\n",
        "  ignora = False\n",
        "  for idx in range(len(codigo)):\n",
        "    if(ignora):\n",
        "      if(codigo[idx] == '\\n'):\n",
        "        ignora = False\n",
        "    else:\n",
        "      if(codigo[idx:idx+2] == '//'):\n",
        "          ignora = True\n",
        "      else:\n",
        "        codigo_final += codigo[idx]\n",
        "\n",
        "  return codigo_final.replace('\\t',' ')"
      ],
      "metadata": {
        "id": "MtsXGHMDsIH3"
      },
      "execution_count": 357,
      "outputs": []
    },
    {
      "cell_type": "code",
      "source": [
        "def variaveis_globais(codigo):\n",
        "  #=====================================================================\n",
        "  def var_dict(v):\n",
        "    if(not v in t_vars):\n",
        "        t_vars[v] = []\n",
        "  #=====================================================================\n",
        "  t_vars = {} #tipo : nome\n",
        "  n_vars = {} #nome : tipo\n",
        "  escopo = codigo[:codigo.lower().find('inicio')]\n",
        "  \n",
        "  for nomes_var, tipo in var_mask.findall(escopo):\n",
        "  # ============ Variaveis simples =====================================\n",
        "    nomes_var, tipo = nomes_var.lower().replace('var ',''), tipo.lower()\n",
        "    if(tipo == 'vetor'):\n",
        "      continue #Tradados depois...\n",
        "    var_dict(tipos_variaveis[tipo])\n",
        "    #Tipo caractere no visual G é uma string\n",
        "    if(tipo == 'caractere'):\n",
        "      t_vars[tipos_variaveis[tipo]] += [var.strip()+'[%d]'%max_tam_string for var in nomes_var.split(',')]\n",
        "    else:\n",
        "      t_vars[tipos_variaveis[tipo]] += [var.strip() for var in nomes_var.split(',')]\n",
        "  # ============= Vetores ==============================================\n",
        "  for nomes_var, dimensoes, tipo in vetor_mask.findall(escopo):\n",
        "    tipo = tipo.lower()\n",
        "    #No visualG, vetores começam na posição 1, e não na 0, logo, sempre será alocado uma posição adicional...\n",
        "    dimensoes = ''.join(['[%d]'%(int(v.split('..')[-1]) + 1) for v in dimensoes.split(',')])\n",
        "    var_dict(tipos_variaveis[tipo])\n",
        "    t_vars[tipos_variaveis[tipo]] += [\"%s%s\"%(v.strip().lower(),dimensoes) for v in nomes_var.split(',')]\n",
        "    \n",
        "  \n",
        "  for tipo in t_vars:\n",
        "    for nome in t_vars[tipo]:\n",
        "      idx = nome.find('[')\n",
        "      if(idx > 0):\n",
        "        n_vars[nome[:idx]] = tipo\n",
        "      else:\n",
        "        n_vars[nome] = tipo\n",
        "  \n",
        "  return t_vars,n_vars"
      ],
      "metadata": {
        "id": "HMlDVvYswK6w"
      },
      "execution_count": 358,
      "outputs": []
    },
    {
      "cell_type": "markdown",
      "source": [
        "###Classe principal"
      ],
      "metadata": {
        "id": "702XtVlwH70O"
      }
    },
    {
      "cell_type": "code",
      "source": [
        "class VisualG2C():\n",
        "  def __init__(self, programa):\n",
        "    self.__stack = []\n",
        "    self.__programa = limpa_comentario(programa)\n",
        "    self.t_vars,self.n_vars = variaveis_globais(self.__programa)\n",
        "\n",
        "  def __parse_bloco(self, lin, ignorar_string):\n",
        "    lin = lin.strip()\n",
        "    ret = None\n",
        "    tokens = (\n",
        "        lin\n",
        "        .lower()\n",
        "        .replace('(', ' ( ')\n",
        "        .replace(')', ' ) ')\n",
        "        .split(' ')\n",
        "    )\n",
        "    \n",
        "    try:\n",
        "      if('[' in tokens[0]):\n",
        "        raise NameError #Array\n",
        "      ret = eval(\"parse_%s(linha = lin.strip(), n_vars = self.n_vars, t_vars = self.t_vars, ignorar_string = ignorar_string)\"%tokens[0].lower())\n",
        "    except NameError:\n",
        "      ret = None\n",
        "    nv = len(self.__stack)\n",
        "    for token in tokens:\n",
        "      if(token == 'ate' and 'para' in tokens):\n",
        "        continue #Ignora esse...\n",
        "      if(token in palavras_chave_fechamento):\n",
        "        if(palavras_chave[self.__stack[-1]] == token):\n",
        "          self.__stack.pop()\n",
        "          nv -= 1\n",
        "        else:\n",
        "          print(self.__stack)\n",
        "          print(tokens)\n",
        "          raise Exception(\"[Bloco] Erro no delimitador <%s>\"%token)\n",
        "      if(token in palavras_chave):\n",
        "        self.__stack.append(token)\n",
        "    \n",
        "    \n",
        "    if(not ret and lin in palavras_chave_fechamento):\n",
        "      ret = '}'\n",
        "    return nv,ret\n",
        "      \n",
        "  '''\n",
        "  eval(self, ignorar_string = False)\n",
        "  @param ignorar_string: Caso seja True, é construido um programa em C removendo\n",
        "                         todas as strings das funções escreva e escreval, deixando\n",
        "                         apenas print de variáveis separadas por ' '\n",
        "  @param mostra_program: Mostra o programa convertido em C na tela\n",
        "  '''\n",
        "\n",
        "  def eval(self, ignorar_string = False, mostra_programa = False):\n",
        "    \n",
        "    if(self.__programa.lower().find('funcao') >= 0 or self.__programa.lower().find('procedimento') >= 0):\n",
        "      print(\"Funcao e Procedimento ainda não possuem parse!\")\n",
        "      return \"\"\n",
        "\n",
        "    \n",
        "    idx = self.__programa.lower().find('inicio')\n",
        "    \n",
        "    if(idx < 0):\n",
        "      raise Exception(\"[Eval]: Programa não possui <inicio>!!!\")\n",
        "\n",
        "    for valor in apelidos:\n",
        "      if(apelidos[valor].isalpha()):\n",
        "        self.__programa =  re.sub(valor, \" %s \"%apelidos[valor], self.__programa, flags=re.IGNORECASE)\n",
        "      else:\n",
        "        self.__programa = self.__programa.replace(valor, \" %s \"%apelidos[valor])\n",
        "\n",
        "    programa_C = [\"\"]\n",
        "    \n",
        "    for lin in self.__programa[idx:].split('\\n'):\n",
        "      nv, n_lins = self.__parse_bloco(lin, ignorar_string)\n",
        "      \n",
        "      if(n_lins is None):\n",
        "        programa_C.append('\\t'*(nv))\n",
        "        programa_C[-1] += (lin)\n",
        "        if(' = ' in lin and programa_C[-1][-1] != ';'):\n",
        "          programa_C[-1] += ';'\n",
        "      else:\n",
        "        for p in n_lins:\n",
        "          programa_C.append('\\t'*(nv))\n",
        "          \n",
        "          if(('caso' in lin.lower())):\n",
        "            programa_C[-1] += len(switches)*'\\b'\n",
        "          programa_C[-1] += (p)\n",
        "          \n",
        "      \n",
        "    if(len(self.__stack)):\n",
        "      print(self.__stack)\n",
        "      raise Exception(\"[Eval]: Erro de sintaxe em <%s>!!!\"%self.__stack[-1])\n",
        "\n",
        "    if(mostra_programa):\n",
        "      for linha in programa_C:\n",
        "        print(linha) \n",
        "\n",
        "    programa_C = '\\n'.join(programa_C).replace('\\b','')\n",
        "\n",
        "    return programa_C\n",
        "\n"
      ],
      "metadata": {
        "id": "25ZUr--tH7NI"
      },
      "execution_count": 359,
      "outputs": []
    },
    {
      "cell_type": "markdown",
      "source": [
        "#Exemplo"
      ],
      "metadata": {
        "id": "nEhwCiceLDB-"
      }
    },
    {
      "cell_type": "code",
      "source": [
        "if(modo == 'Demonstração'):\n",
        "  for i,programa in enumerate(programas_exemplos):\n",
        "    p = VisualG2C(programa)\n",
        "    with open((\"%03d\"%i)+sufixo_arquivo_c, 'w') as f:\n",
        "      f.write(p.eval(mostra_programa = True))\n",
        "    print(\"Programa %03d salvo!\"%i)\n"
      ],
      "metadata": {
        "id": "Nv7hFSmgyq1j"
      },
      "execution_count": 360,
      "outputs": []
    },
    {
      "cell_type": "code",
      "source": [
        "if(modo == 'Demonstração'):\n",
        "  for i in range(len(programas_exemplos)):\n",
        "    f_name = (\"%03d\"%i)+sufixo_arquivo_c\n",
        "    !gcc $f_name -o teste\n",
        "    print('\\n')\n",
        "    print(\"=\"*40)\n",
        "    !./teste"
      ],
      "metadata": {
        "id": "gzIkY-FakWDV"
      },
      "execution_count": 361,
      "outputs": []
    },
    {
      "cell_type": "markdown",
      "source": [
        "#Execuções"
      ],
      "metadata": {
        "id": "6FaCeeoIeshp"
      }
    },
    {
      "cell_type": "code",
      "source": [
        "try:\n",
        "  shutil.rmtree(pasta_dos_exercicios)\n",
        "except OSError:\n",
        "  pass\n",
        "try:\n",
        "  os.mkdir(pasta_dos_exercicios)\n",
        "except FileExistsError:\n",
        "  pass"
      ],
      "metadata": {
        "id": "0aTpqxZmloOK"
      },
      "execution_count": 362,
      "outputs": []
    },
    {
      "cell_type": "code",
      "source": [
        "mask_aluno = re.compile(r'([^_]+)_\\d+__assignsubmission_file_')"
      ],
      "metadata": {
        "id": "o6Ac27jAj_XC"
      },
      "execution_count": 363,
      "outputs": []
    },
    {
      "cell_type": "code",
      "source": [
        "#@title Submeta um zip com seus arquivos\n",
        "if(modo == 'Upload'):\n",
        "  upload = files.upload() \n",
        "  for arq in upload:\n",
        "    arq = '\"%s\"'%arq\n",
        "    !unzip $arq -d $pasta_dos_exercicios"
      ],
      "metadata": {
        "colab": {
          "resources": {
            "http://localhost:8080/nbextensions/google.colab/files.js": {
              "data": "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",
              "ok": true,
              "headers": [
                [
                  "content-type",
                  "application/javascript"
                ]
              ],
              "status": 200,
              "status_text": ""
            }
          },
          "base_uri": "https://localhost:8080/",
          "height": 1000
        },
        "cellView": "form",
        "id": "QsrfIvJzfY36",
        "outputId": "bc6a28f2-4974-4c3a-c773-34de22ac0550"
      },
      "execution_count": 364,
      "outputs": [
        {
          "output_type": "display_data",
          "data": {
            "text/plain": [
              "<IPython.core.display.HTML object>"
            ],
            "text/html": [
              "\n",
              "     <input type=\"file\" id=\"files-84e78e62-e1e7-441b-8e7f-a5c9b9a3fae2\" name=\"files[]\" multiple disabled\n",
              "        style=\"border:none\" />\n",
              "     <output id=\"result-84e78e62-e1e7-441b-8e7f-a5c9b9a3fae2\">\n",
              "      Upload widget is only available when the cell has been executed in the\n",
              "      current browser session. Please rerun this cell to enable.\n",
              "      </output>\n",
              "      <script src=\"/nbextensions/google.colab/files.js\"></script> "
            ]
          },
          "metadata": {}
        },
        {
          "output_type": "stream",
          "name": "stdout",
          "text": [
            "Saving algoritmos.zip to algoritmos (5).zip\n",
            "Archive:  algoritmos.zip\n",
            "   creating: exercicios/matriz_99999__assignsubmission_file_/\n",
            "  inflating: exercicios/matriz_99999__assignsubmission_file_/ALEATORIA.ALG  \n",
            "  inflating: exercicios/matriz_99999__assignsubmission_file_/INSERCAO.ALG  \n",
            "  inflating: exercicios/matriz_99999__assignsubmission_file_/MATRIZ.ALG  \n",
            "  inflating: exercicios/matriz_99999__assignsubmission_file_/MAULTIPLICACAO DE MATRIZES.ALG  \n",
            "  inflating: exercicios/matriz_99999__assignsubmission_file_/ORDENAMATRIZ.ALG  \n",
            "  inflating: exercicios/matriz_99999__assignsubmission_file_/PASCAL.ALG  \n",
            "  inflating: exercicios/matriz_99999__assignsubmission_file_/VENDAS NO ANO.ALG  \n",
            "   creating: exercicios/outros algoritmos_99999__assignsubmission_file_/\n",
            "  inflating: exercicios/outros algoritmos_99999__assignsubmission_file_/AREA DO RETANGULO.ALG  \n",
            "  inflating: exercicios/outros algoritmos_99999__assignsubmission_file_/AREADACIRCUFERENCIA.ALG  \n",
            "  inflating: exercicios/outros algoritmos_99999__assignsubmission_file_/CELSIUS CONVERTIDO EM FAHRENHEIT.ALG  \n",
            "  inflating: exercicios/outros algoritmos_99999__assignsubmission_file_/CONSUMOCOMBUSTIVEL.ALG  \n",
            "  inflating: exercicios/outros algoritmos_99999__assignsubmission_file_/CREDITO.ALG  \n",
            "  inflating: exercicios/outros algoritmos_99999__assignsubmission_file_/DATA.ALG  \n",
            "  inflating: exercicios/outros algoritmos_99999__assignsubmission_file_/DIGITOVERIFICADOR.ALG  \n",
            "  inflating: exercicios/outros algoritmos_99999__assignsubmission_file_/EXEMPLO1.ALG  \n",
            "  inflating: exercicios/outros algoritmos_99999__assignsubmission_file_/GORJETA.ALG  \n",
            "  inflating: exercicios/outros algoritmos_99999__assignsubmission_file_/HIPOTENUSA.ALG  \n",
            "  inflating: exercicios/outros algoritmos_99999__assignsubmission_file_/INGRESSO.ALG  \n",
            "  inflating: exercicios/outros algoritmos_99999__assignsubmission_file_/MAIORDE3.ALG  \n",
            "  inflating: exercicios/outros algoritmos_99999__assignsubmission_file_/MEDIA ARITMETICA.ALG  \n",
            "  inflating: exercicios/outros algoritmos_99999__assignsubmission_file_/MEDIA.ALG  \n",
            "  inflating: exercicios/outros algoritmos_99999__assignsubmission_file_/OPERADORESRELACIONAIS.ALG  \n",
            "  inflating: exercicios/outros algoritmos_99999__assignsubmission_file_/PA.ALG  \n",
            "  inflating: exercicios/outros algoritmos_99999__assignsubmission_file_/PARALELEPIPEDO.ALG  \n",
            "  inflating: exercicios/outros algoritmos_99999__assignsubmission_file_/PAROUIMPAR.ALG  \n",
            "  inflating: exercicios/outros algoritmos_99999__assignsubmission_file_/SALARIO.ALG  \n",
            "  inflating: exercicios/outros algoritmos_99999__assignsubmission_file_/SISTEMA DE COMPRA.ALG  \n",
            "  inflating: exercicios/outros algoritmos_99999__assignsubmission_file_/TROCA.ALG  \n",
            "  inflating: exercicios/outros algoritmos_99999__assignsubmission_file_/VOLUMECONE.ALG  \n",
            "   creating: exercicios/repeticao_99999__assignsubmission_file_/\n",
            "  inflating: exercicios/repeticao_99999__assignsubmission_file_/BINARIO PARA DECIMAL.ALG  \n",
            "  inflating: exercicios/repeticao_99999__assignsubmission_file_/CONTAGEM DE PARES.ALG  \n",
            "  inflating: exercicios/repeticao_99999__assignsubmission_file_/DECIMAL PARA BINARIO.ALG  \n",
            "  inflating: exercicios/repeticao_99999__assignsubmission_file_/DESAFIO DO MAIOR NUMERO.ALG  \n",
            "  inflating: exercicios/repeticao_99999__assignsubmission_file_/EXEMPLO DO ATE FIMREPITA.ALG  \n",
            "  inflating: exercicios/repeticao_99999__assignsubmission_file_/EXEMPLO DO ENQUANTO.ALG  \n",
            "  inflating: exercicios/repeticao_99999__assignsubmission_file_/EXEMPLO DO INTERROMPA.ALG  \n",
            "  inflating: exercicios/repeticao_99999__assignsubmission_file_/EXEMPLO DO REPITA.ALG  \n",
            "  inflating: exercicios/repeticao_99999__assignsubmission_file_/FATORIAL.ALG  \n",
            "  inflating: exercicios/repeticao_99999__assignsubmission_file_/FIBONACCI.ALG  \n",
            "  inflating: exercicios/repeticao_99999__assignsubmission_file_/JOGO DO MAIOR.ALG  \n",
            "  inflating: exercicios/repeticao_99999__assignsubmission_file_/MAIOR E MENOR.ALG  \n",
            "  inflating: exercicios/repeticao_99999__assignsubmission_file_/MASSA.ALG  \n",
            "  inflating: exercicios/repeticao_99999__assignsubmission_file_/MDC.ALG  \n",
            "  inflating: exercicios/repeticao_99999__assignsubmission_file_/MEDIA.ALG  \n",
            "  inflating: exercicios/repeticao_99999__assignsubmission_file_/MULTIOPLOS.ALG  \n",
            "  inflating: exercicios/repeticao_99999__assignsubmission_file_/MULTIPLOS DE 5.ALG  \n",
            "  inflating: exercicios/repeticao_99999__assignsubmission_file_/NUMEROS DE 1 A 10.ALG  \n",
            "  inflating: exercicios/repeticao_99999__assignsubmission_file_/PALINDROMO.ALG  \n",
            "  inflating: exercicios/repeticao_99999__assignsubmission_file_/PARES.ALG  \n",
            "  inflating: exercicios/repeticao_99999__assignsubmission_file_/PERFEITOS.ALG  \n",
            "  inflating: exercicios/repeticao_99999__assignsubmission_file_/PI.ALG  \n",
            "  inflating: exercicios/repeticao_99999__assignsubmission_file_/PORCENTAGEM DE PARES.ALG  \n",
            "  inflating: exercicios/repeticao_99999__assignsubmission_file_/POSITIVOS E MEDIA.ALG  \n",
            "  inflating: exercicios/repeticao_99999__assignsubmission_file_/PRIMO.ALG  \n",
            "  inflating: exercicios/repeticao_99999__assignsubmission_file_/PRIMOS.ALG  \n",
            "  inflating: exercicios/repeticao_99999__assignsubmission_file_/QUADRADO.ALG  \n",
            "  inflating: exercicios/repeticao_99999__assignsubmission_file_/RAIZ QUADRADA.ALG  \n",
            "  inflating: exercicios/repeticao_99999__assignsubmission_file_/SOMA DOS PARES CONSECUTIVOS.ALG  \n",
            "  inflating: exercicios/repeticao_99999__assignsubmission_file_/SOMA DOS PARES.ALG  \n",
            "  inflating: exercicios/repeticao_99999__assignsubmission_file_/TABUADA.ALG  \n",
            "  inflating: exercicios/repeticao_99999__assignsubmission_file_/TCHAU.ALG  \n",
            "   creating: exercicios/subprograma_99999__assignsubmission_file_/\n",
            "  inflating: exercicios/subprograma_99999__assignsubmission_file_/BINARIO PARA DECIMAL.ALG  \n",
            "  inflating: exercicios/subprograma_99999__assignsubmission_file_/DECIMAL PARA BINARIO.ALG  \n",
            "  inflating: exercicios/subprograma_99999__assignsubmission_file_/DIA SEGUINTE.ALG  \n",
            "  inflating: exercicios/subprograma_99999__assignsubmission_file_/DIGITOS.ALG  \n",
            "  inflating: exercicios/subprograma_99999__assignsubmission_file_/FUNCAO.ALG  \n",
            "  inflating: exercicios/subprograma_99999__assignsubmission_file_/PERMUTACAO.ALG  \n",
            "  inflating: exercicios/subprograma_99999__assignsubmission_file_/PRIMO.ALG  \n",
            "  inflating: exercicios/subprograma_99999__assignsubmission_file_/SOMA BINARIA.ALG  \n",
            "  inflating: exercicios/subprograma_99999__assignsubmission_file_/SUBPROGRAMA.ALG  \n",
            "  inflating: exercicios/subprograma_99999__assignsubmission_file_/TRAB2.ALG  \n",
            "  inflating: exercicios/subprograma_99999__assignsubmission_file_/TRAB2Completo.ALG  \n",
            "  inflating: exercicios/subprograma_99999__assignsubmission_file_/TROCA.ALG  \n",
            "   creating: exercicios/vetores_99999__assignsubmission_file_/\n",
            "  inflating: exercicios/vetores_99999__assignsubmission_file_/BIBLIOTECA.ALG  \n",
            "  inflating: exercicios/vetores_99999__assignsubmission_file_/DADO.ALG  \n",
            "  inflating: exercicios/vetores_99999__assignsubmission_file_/EXAME GERAL.ALG  \n",
            "  inflating: exercicios/vetores_99999__assignsubmission_file_/INSERCAO.ALG  \n",
            "  inflating: exercicios/vetores_99999__assignsubmission_file_/LISTA DE CHAMADA.ALG  \n",
            "  inflating: exercicios/vetores_99999__assignsubmission_file_/MEDIA ALUNOS.ALG  \n",
            "  inflating: exercicios/vetores_99999__assignsubmission_file_/MIULTIPLICACAO.ALG  \n",
            "  inflating: exercicios/vetores_99999__assignsubmission_file_/NUMEROS INTEIROS.ALG  \n",
            "  inflating: exercicios/vetores_99999__assignsubmission_file_/PAR OU IMPAR.ALG  \n",
            "  inflating: exercicios/vetores_99999__assignsubmission_file_/RESERVA.ALG  \n",
            "  inflating: exercicios/vetores_99999__assignsubmission_file_/TEMPERATURA.ALG  \n",
            "  inflating: exercicios/vetores_99999__assignsubmission_file_/TESTEVETORFUNCAO.ALG  \n",
            "  inflating: exercicios/vetores_99999__assignsubmission_file_/VETOR.ALG  \n",
            "   creating: exercicios/decisao_99999__assignsubmission_file_/\n",
            "  inflating: exercicios/decisao_99999__assignsubmission_file_/BARALHO.ALG  \n",
            "  inflating: exercicios/decisao_99999__assignsubmission_file_/CALCULADORA.ALG  \n",
            "  inflating: exercicios/decisao_99999__assignsubmission_file_/CONSUMO.ALG  \n",
            "  inflating: exercicios/decisao_99999__assignsubmission_file_/CUSTOCARRO.ALG  \n",
            "  inflating: exercicios/decisao_99999__assignsubmission_file_/DIADASEMANA.ALG  \n",
            "  inflating: exercicios/decisao_99999__assignsubmission_file_/DOSAGEMMEDICAMENTO.ALG  \n",
            "  inflating: exercicios/decisao_99999__assignsubmission_file_/DURACAO DO JOGO.ALG  \n",
            "  inflating: exercicios/decisao_99999__assignsubmission_file_/ELEITOR.ALG  \n",
            "  inflating: exercicios/decisao_99999__assignsubmission_file_/EQUACAO2GRAU.ALG  \n",
            "  inflating: exercicios/decisao_99999__assignsubmission_file_/ESFERA.ALG  \n",
            "  inflating: exercicios/decisao_99999__assignsubmission_file_/FRETE.ALG  \n",
            "  inflating: exercicios/decisao_99999__assignsubmission_file_/GRATIFICACAO.ALG  \n",
            "  inflating: exercicios/decisao_99999__assignsubmission_file_/IDADECOMPLETA.ALG  \n",
            "  inflating: exercicios/decisao_99999__assignsubmission_file_/IMC.ALG  \n",
            "  inflating: exercicios/decisao_99999__assignsubmission_file_/MARCA DO CARRO.ALG  \n",
            "  inflating: exercicios/decisao_99999__assignsubmission_file_/MEDIAFINAL.ALG  \n",
            "  inflating: exercicios/decisao_99999__assignsubmission_file_/MULTIPLO3.ALG  \n",
            "  inflating: exercicios/decisao_99999__assignsubmission_file_/NATACAO.ALG  \n",
            "  inflating: exercicios/decisao_99999__assignsubmission_file_/NEGATIVOS.ALG  \n",
            "  inflating: exercicios/decisao_99999__assignsubmission_file_/ORDEMDECRESCENTE.ALG  \n",
            "  inflating: exercicios/decisao_99999__assignsubmission_file_/PAR_IMPAR.ALG  \n",
            "  inflating: exercicios/decisao_99999__assignsubmission_file_/PESOIDEAL.ALG  \n",
            "  inflating: exercicios/decisao_99999__assignsubmission_file_/PLANODESAUDE.ALG  \n",
            "  inflating: exercicios/decisao_99999__assignsubmission_file_/PRECOVENDA.ALG  \n",
            "  inflating: exercicios/decisao_99999__assignsubmission_file_/QUADRANTE.ALG  \n",
            "  inflating: exercicios/decisao_99999__assignsubmission_file_/SALARIO SEMANAL.ALG  \n",
            "  inflating: exercicios/decisao_99999__assignsubmission_file_/SINALDETRANSITO.ALG  \n",
            "  inflating: exercicios/decisao_99999__assignsubmission_file_/TIPO CARACTERISTICO.ALG  \n",
            "  inflating: exercicios/decisao_99999__assignsubmission_file_/TRIANGULO.ALG  \n",
            "  inflating: exercicios/decisao_99999__assignsubmission_file_/VALORCOMPRA.ALG  \n",
            "  inflating: exercicios/decisao_99999__assignsubmission_file_/VALORVENDA.ALG  \n",
            "   creating: exercicios/introducao_99999__assignsubmission_file_/\n",
            "  inflating: exercicios/introducao_99999__assignsubmission_file_/EXERCICIO02.ALG  \n",
            "  inflating: exercicios/introducao_99999__assignsubmission_file_/EXERCICIO10.ALG  \n",
            "  inflating: exercicios/introducao_99999__assignsubmission_file_/EXERCICIO3.ALG  \n",
            "  inflating: exercicios/introducao_99999__assignsubmission_file_/EXERCICIO6.ALG  \n"
          ]
        }
      ]
    },
    {
      "cell_type": "code",
      "source": [
        "if(modo == 'Upload'):\n",
        "  alunos = {}\n",
        "  for folder in os.listdir(pasta_dos_exercicios):\n",
        "    nome = mask_aluno.findall(folder)\n",
        "    if (nome):\n",
        "      nome = nome[0]\n",
        "      aluno = alunos[nome] = {}\n",
        "\n",
        "      aluno['caminho'] = pasta_dos_exercicios+'/'+folder\n",
        "      aluno['exercicios'] = [e for e in [v for v in os.listdir(aluno['caminho'])] if sufixo_arquivo_visgualg == e.lower()[-len(sufixo_arquivo_visgualg):]]"
      ],
      "metadata": {
        "id": "QTztzjfakYvp"
      },
      "execution_count": 365,
      "outputs": []
    },
    {
      "cell_type": "code",
      "source": [
        "if(modo == 'Upload'):\n",
        "  pasta_exercicios_c = 'ex_c'\n",
        "  for nome in alunos:\n",
        "    aluno = alunos[nome]\n",
        "    aluno[pasta_exercicios_c] = []\n",
        "    caminho_ex_c = aluno['caminho']+'/'+pasta_exercicios_c\n",
        "    try:\n",
        "      os.mkdir(caminho_ex_c)\n",
        "    except FileExistsError:\n",
        "      pass\n",
        "    for ex in aluno['exercicios']:\n",
        "      print(\"Testando o programa <%s>, do aluno <%s>\"%(ex, nome))\n",
        "      programa = VisualG2C(open(aluno['caminho']+'/'+ex, encoding='latin-1').read())\n",
        "      nome_prog_c = (\"%s/%s%s\"%(caminho_ex_c,ex.replace(' ','_').replace(' ',sufixo_arquivo_visgualg),sufixo_arquivo_c))\n",
        "      aluno[pasta_exercicios_c].append(nome_prog_c)\n",
        "      \n",
        "      open(nome_prog_c, 'w', encoding='latin-1').write(programa.eval())\n",
        "      #Compila\n",
        "      \n",
        "      #!gcc $nome_prog_c -o teste\n",
        "      err = os.popen(\"gcc %s -o teste\"%nome_prog_c).read()\n",
        "      print(err)\n",
        "      if(err):\n",
        "        print('\\n')\n",
        "        print(\"=\"*40)\n",
        "        input()\n",
        "      #Executa\n",
        "      #!./teste"
      ],
      "metadata": {
        "colab": {
          "base_uri": "https://localhost:8080/",
          "height": 1000
        },
        "id": "p9RD3QAfelK6",
        "outputId": "9d420731-4054-4e98-b4d2-c43d11e28d36"
      },
      "execution_count": 366,
      "outputs": [
        {
          "output_type": "stream",
          "name": "stdout",
          "text": [
            "Testando o programa <PARES.ALG>, do aluno <repeticao>\n",
            "\n",
            "Testando o programa <MULTIPLOS DE 5.ALG>, do aluno <repeticao>\n",
            "\n",
            "Testando o programa <EXEMPLO DO ATE FIMREPITA.ALG>, do aluno <repeticao>\n",
            "\n",
            "Testando o programa <CONTAGEM DE PARES.ALG>, do aluno <repeticao>\n",
            "\n",
            "Testando o programa <MEDIA.ALG>, do aluno <repeticao>\n",
            "\n",
            "Testando o programa <POSITIVOS E MEDIA.ALG>, do aluno <repeticao>\n",
            "\n",
            "Testando o programa <EXEMPLO DO ENQUANTO.ALG>, do aluno <repeticao>\n",
            "\n",
            "Testando o programa <FATORIAL.ALG>, do aluno <repeticao>\n",
            "\n",
            "Testando o programa <TABUADA.ALG>, do aluno <repeticao>\n",
            "\n",
            "Testando o programa <MDC.ALG>, do aluno <repeticao>\n",
            "\n",
            "Testando o programa <EXEMPLO DO REPITA.ALG>, do aluno <repeticao>\n",
            "\n",
            "Testando o programa <PERFEITOS.ALG>, do aluno <repeticao>\n",
            "\n",
            "Testando o programa <TCHAU.ALG>, do aluno <repeticao>\n",
            "\n",
            "Testando o programa <EXEMPLO DO INTERROMPA.ALG>, do aluno <repeticao>\n",
            "\n",
            "Testando o programa <PORCENTAGEM DE PARES.ALG>, do aluno <repeticao>\n",
            "\n",
            "Testando o programa <DESAFIO DO MAIOR NUMERO.ALG>, do aluno <repeticao>\n",
            "\n",
            "Testando o programa <NUMEROS DE 1 A 10.ALG>, do aluno <repeticao>\n",
            "\n",
            "Testando o programa <FIBONACCI.ALG>, do aluno <repeticao>\n",
            "\n",
            "Testando o programa <QUADRADO.ALG>, do aluno <repeticao>\n",
            "\n",
            "Testando o programa <MASSA.ALG>, do aluno <repeticao>\n",
            "\n",
            "Testando o programa <RAIZ QUADRADA.ALG>, do aluno <repeticao>\n",
            "\n",
            "Testando o programa <PRIMOS.ALG>, do aluno <repeticao>\n",
            "\n",
            "Testando o programa <PRIMO.ALG>, do aluno <repeticao>\n",
            "\n",
            "Testando o programa <PALINDROMO.ALG>, do aluno <repeticao>\n",
            "\n",
            "Testando o programa <JOGO DO MAIOR.ALG>, do aluno <repeticao>\n",
            "\n",
            "Testando o programa <PI.ALG>, do aluno <repeticao>\n",
            "\n",
            "Testando o programa <SOMA DOS PARES.ALG>, do aluno <repeticao>\n",
            "\n",
            "Testando o programa <BINARIO PARA DECIMAL.ALG>, do aluno <repeticao>\n",
            "\n",
            "Testando o programa <SOMA DOS PARES CONSECUTIVOS.ALG>, do aluno <repeticao>\n",
            "\n",
            "Testando o programa <DECIMAL PARA BINARIO.ALG>, do aluno <repeticao>\n",
            "\n",
            "Testando o programa <MULTIOPLOS.ALG>, do aluno <repeticao>\n",
            "\n",
            "Testando o programa <MAIOR E MENOR.ALG>, do aluno <repeticao>\n",
            "\n",
            "Testando o programa <LISTA DE CHAMADA.ALG>, do aluno <vetores>\n",
            "\n",
            "Testando o programa <MEDIA ALUNOS.ALG>, do aluno <vetores>\n",
            "\n",
            "Testando o programa <RESERVA.ALG>, do aluno <vetores>\n",
            "\n",
            "Testando o programa <BIBLIOTECA.ALG>, do aluno <vetores>\n",
            "\n",
            "Testando o programa <MIULTIPLICACAO.ALG>, do aluno <vetores>\n",
            "\n",
            "Testando o programa <TEMPERATURA.ALG>, do aluno <vetores>\n",
            "\n",
            "Testando o programa <NUMEROS INTEIROS.ALG>, do aluno <vetores>\n",
            "\n",
            "Testando o programa <PAR OU IMPAR.ALG>, do aluno <vetores>\n",
            "\n",
            "Testando o programa <VETOR.ALG>, do aluno <vetores>\n",
            "\n",
            "Testando o programa <DADO.ALG>, do aluno <vetores>\n",
            "\n",
            "Testando o programa <EXAME GERAL.ALG>, do aluno <vetores>\n",
            "\n",
            "Testando o programa <TESTEVETORFUNCAO.ALG>, do aluno <vetores>\n"
          ]
        },
        {
          "output_type": "error",
          "ename": "ValueError",
          "evalue": "ignored",
          "traceback": [
            "\u001b[0;31m---------------------------------------------------------------------------\u001b[0m",
            "\u001b[0;31mValueError\u001b[0m                                Traceback (most recent call last)",
            "\u001b[0;32m<ipython-input-366-31559d10ae74>\u001b[0m in \u001b[0;36m<module>\u001b[0;34m()\u001b[0m\n\u001b[1;32m     11\u001b[0m     \u001b[0;32mfor\u001b[0m \u001b[0mex\u001b[0m \u001b[0;32min\u001b[0m \u001b[0maluno\u001b[0m\u001b[0;34m[\u001b[0m\u001b[0;34m'exercicios'\u001b[0m\u001b[0;34m]\u001b[0m\u001b[0;34m:\u001b[0m\u001b[0;34m\u001b[0m\u001b[0;34m\u001b[0m\u001b[0m\n\u001b[1;32m     12\u001b[0m       \u001b[0mprint\u001b[0m\u001b[0;34m(\u001b[0m\u001b[0;34m\"Testando o programa <%s>, do aluno <%s>\"\u001b[0m\u001b[0;34m%\u001b[0m\u001b[0;34m(\u001b[0m\u001b[0mex\u001b[0m\u001b[0;34m,\u001b[0m \u001b[0mnome\u001b[0m\u001b[0;34m)\u001b[0m\u001b[0;34m)\u001b[0m\u001b[0;34m\u001b[0m\u001b[0;34m\u001b[0m\u001b[0m\n\u001b[0;32m---> 13\u001b[0;31m       \u001b[0mprograma\u001b[0m \u001b[0;34m=\u001b[0m \u001b[0mVisualG2C\u001b[0m\u001b[0;34m(\u001b[0m\u001b[0mopen\u001b[0m\u001b[0;34m(\u001b[0m\u001b[0maluno\u001b[0m\u001b[0;34m[\u001b[0m\u001b[0;34m'caminho'\u001b[0m\u001b[0;34m]\u001b[0m\u001b[0;34m+\u001b[0m\u001b[0;34m'/'\u001b[0m\u001b[0;34m+\u001b[0m\u001b[0mex\u001b[0m\u001b[0;34m,\u001b[0m \u001b[0mencoding\u001b[0m\u001b[0;34m=\u001b[0m\u001b[0;34m'latin-1'\u001b[0m\u001b[0;34m)\u001b[0m\u001b[0;34m.\u001b[0m\u001b[0mread\u001b[0m\u001b[0;34m(\u001b[0m\u001b[0;34m)\u001b[0m\u001b[0;34m)\u001b[0m\u001b[0;34m\u001b[0m\u001b[0;34m\u001b[0m\u001b[0m\n\u001b[0m\u001b[1;32m     14\u001b[0m       \u001b[0mnome_prog_c\u001b[0m \u001b[0;34m=\u001b[0m \u001b[0;34m(\u001b[0m\u001b[0;34m\"%s/%s%s\"\u001b[0m\u001b[0;34m%\u001b[0m\u001b[0;34m(\u001b[0m\u001b[0mcaminho_ex_c\u001b[0m\u001b[0;34m,\u001b[0m\u001b[0mex\u001b[0m\u001b[0;34m.\u001b[0m\u001b[0mreplace\u001b[0m\u001b[0;34m(\u001b[0m\u001b[0;34m' '\u001b[0m\u001b[0;34m,\u001b[0m\u001b[0;34m'_'\u001b[0m\u001b[0;34m)\u001b[0m\u001b[0;34m.\u001b[0m\u001b[0mreplace\u001b[0m\u001b[0;34m(\u001b[0m\u001b[0;34m' '\u001b[0m\u001b[0;34m,\u001b[0m\u001b[0msufixo_arquivo_visgualg\u001b[0m\u001b[0;34m)\u001b[0m\u001b[0;34m,\u001b[0m\u001b[0msufixo_arquivo_c\u001b[0m\u001b[0;34m)\u001b[0m\u001b[0;34m)\u001b[0m\u001b[0;34m\u001b[0m\u001b[0;34m\u001b[0m\u001b[0m\n\u001b[1;32m     15\u001b[0m       \u001b[0maluno\u001b[0m\u001b[0;34m[\u001b[0m\u001b[0mpasta_exercicios_c\u001b[0m\u001b[0;34m]\u001b[0m\u001b[0;34m.\u001b[0m\u001b[0mappend\u001b[0m\u001b[0;34m(\u001b[0m\u001b[0mnome_prog_c\u001b[0m\u001b[0;34m)\u001b[0m\u001b[0;34m\u001b[0m\u001b[0;34m\u001b[0m\u001b[0m\n",
            "\u001b[0;32m<ipython-input-359-8d4fa53ef1d8>\u001b[0m in \u001b[0;36m__init__\u001b[0;34m(self, programa)\u001b[0m\n\u001b[1;32m      3\u001b[0m     \u001b[0mself\u001b[0m\u001b[0;34m.\u001b[0m\u001b[0m__stack\u001b[0m \u001b[0;34m=\u001b[0m \u001b[0;34m[\u001b[0m\u001b[0;34m]\u001b[0m\u001b[0;34m\u001b[0m\u001b[0;34m\u001b[0m\u001b[0m\n\u001b[1;32m      4\u001b[0m     \u001b[0mself\u001b[0m\u001b[0;34m.\u001b[0m\u001b[0m__programa\u001b[0m \u001b[0;34m=\u001b[0m \u001b[0mlimpa_comentario\u001b[0m\u001b[0;34m(\u001b[0m\u001b[0mprograma\u001b[0m\u001b[0;34m)\u001b[0m\u001b[0;34m\u001b[0m\u001b[0;34m\u001b[0m\u001b[0m\n\u001b[0;32m----> 5\u001b[0;31m     \u001b[0mself\u001b[0m\u001b[0;34m.\u001b[0m\u001b[0mt_vars\u001b[0m\u001b[0;34m,\u001b[0m\u001b[0mself\u001b[0m\u001b[0;34m.\u001b[0m\u001b[0mn_vars\u001b[0m \u001b[0;34m=\u001b[0m \u001b[0mvariaveis_globais\u001b[0m\u001b[0;34m(\u001b[0m\u001b[0mself\u001b[0m\u001b[0;34m.\u001b[0m\u001b[0m__programa\u001b[0m\u001b[0;34m)\u001b[0m\u001b[0;34m\u001b[0m\u001b[0;34m\u001b[0m\u001b[0m\n\u001b[0m\u001b[1;32m      6\u001b[0m \u001b[0;34m\u001b[0m\u001b[0m\n\u001b[1;32m      7\u001b[0m   \u001b[0;32mdef\u001b[0m \u001b[0m__parse_bloco\u001b[0m\u001b[0;34m(\u001b[0m\u001b[0mself\u001b[0m\u001b[0;34m,\u001b[0m \u001b[0mlin\u001b[0m\u001b[0;34m,\u001b[0m \u001b[0mignorar_string\u001b[0m\u001b[0;34m)\u001b[0m\u001b[0;34m:\u001b[0m\u001b[0;34m\u001b[0m\u001b[0;34m\u001b[0m\u001b[0m\n",
            "\u001b[0;32m<ipython-input-358-da2cd862b441>\u001b[0m in \u001b[0;36mvariaveis_globais\u001b[0;34m(codigo)\u001b[0m\n\u001b[1;32m     24\u001b[0m     \u001b[0mtipo\u001b[0m \u001b[0;34m=\u001b[0m \u001b[0mtipo\u001b[0m\u001b[0;34m.\u001b[0m\u001b[0mlower\u001b[0m\u001b[0;34m(\u001b[0m\u001b[0;34m)\u001b[0m\u001b[0;34m\u001b[0m\u001b[0;34m\u001b[0m\u001b[0m\n\u001b[1;32m     25\u001b[0m     \u001b[0;31m#No visualG, vetores começam na posição 1, e não na 0, logo, sempre será alocado uma posição adicional...\u001b[0m\u001b[0;34m\u001b[0m\u001b[0;34m\u001b[0m\u001b[0;34m\u001b[0m\u001b[0m\n\u001b[0;32m---> 26\u001b[0;31m     \u001b[0mdimensoes\u001b[0m \u001b[0;34m=\u001b[0m \u001b[0;34m''\u001b[0m\u001b[0;34m.\u001b[0m\u001b[0mjoin\u001b[0m\u001b[0;34m(\u001b[0m\u001b[0;34m[\u001b[0m\u001b[0;34m'[%d]'\u001b[0m\u001b[0;34m%\u001b[0m\u001b[0;34m(\u001b[0m\u001b[0mint\u001b[0m\u001b[0;34m(\u001b[0m\u001b[0mv\u001b[0m\u001b[0;34m.\u001b[0m\u001b[0msplit\u001b[0m\u001b[0;34m(\u001b[0m\u001b[0;34m'..'\u001b[0m\u001b[0;34m)\u001b[0m\u001b[0;34m[\u001b[0m\u001b[0;34m-\u001b[0m\u001b[0;36m1\u001b[0m\u001b[0;34m]\u001b[0m\u001b[0;34m)\u001b[0m \u001b[0;34m+\u001b[0m \u001b[0;36m1\u001b[0m\u001b[0;34m)\u001b[0m \u001b[0;32mfor\u001b[0m \u001b[0mv\u001b[0m \u001b[0;32min\u001b[0m \u001b[0mdimensoes\u001b[0m\u001b[0;34m.\u001b[0m\u001b[0msplit\u001b[0m\u001b[0;34m(\u001b[0m\u001b[0;34m','\u001b[0m\u001b[0;34m)\u001b[0m\u001b[0;34m]\u001b[0m\u001b[0;34m)\u001b[0m\u001b[0;34m\u001b[0m\u001b[0;34m\u001b[0m\u001b[0m\n\u001b[0m\u001b[1;32m     27\u001b[0m     \u001b[0mvar_dict\u001b[0m\u001b[0;34m(\u001b[0m\u001b[0mtipos_variaveis\u001b[0m\u001b[0;34m[\u001b[0m\u001b[0mtipo\u001b[0m\u001b[0;34m]\u001b[0m\u001b[0;34m)\u001b[0m\u001b[0;34m\u001b[0m\u001b[0;34m\u001b[0m\u001b[0m\n\u001b[1;32m     28\u001b[0m     \u001b[0mt_vars\u001b[0m\u001b[0;34m[\u001b[0m\u001b[0mtipos_variaveis\u001b[0m\u001b[0;34m[\u001b[0m\u001b[0mtipo\u001b[0m\u001b[0;34m]\u001b[0m\u001b[0;34m]\u001b[0m \u001b[0;34m+=\u001b[0m \u001b[0;34m[\u001b[0m\u001b[0;34m\"%s%s\"\u001b[0m\u001b[0;34m%\u001b[0m\u001b[0;34m(\u001b[0m\u001b[0mv\u001b[0m\u001b[0;34m.\u001b[0m\u001b[0mstrip\u001b[0m\u001b[0;34m(\u001b[0m\u001b[0;34m)\u001b[0m\u001b[0;34m.\u001b[0m\u001b[0mlower\u001b[0m\u001b[0;34m(\u001b[0m\u001b[0;34m)\u001b[0m\u001b[0;34m,\u001b[0m\u001b[0mdimensoes\u001b[0m\u001b[0;34m)\u001b[0m \u001b[0;32mfor\u001b[0m \u001b[0mv\u001b[0m \u001b[0;32min\u001b[0m \u001b[0mnomes_var\u001b[0m\u001b[0;34m.\u001b[0m\u001b[0msplit\u001b[0m\u001b[0;34m(\u001b[0m\u001b[0;34m','\u001b[0m\u001b[0;34m)\u001b[0m\u001b[0;34m]\u001b[0m\u001b[0;34m\u001b[0m\u001b[0;34m\u001b[0m\u001b[0m\n",
            "\u001b[0;32m<ipython-input-358-da2cd862b441>\u001b[0m in \u001b[0;36m<listcomp>\u001b[0;34m(.0)\u001b[0m\n\u001b[1;32m     24\u001b[0m     \u001b[0mtipo\u001b[0m \u001b[0;34m=\u001b[0m \u001b[0mtipo\u001b[0m\u001b[0;34m.\u001b[0m\u001b[0mlower\u001b[0m\u001b[0;34m(\u001b[0m\u001b[0;34m)\u001b[0m\u001b[0;34m\u001b[0m\u001b[0;34m\u001b[0m\u001b[0m\n\u001b[1;32m     25\u001b[0m     \u001b[0;31m#No visualG, vetores começam na posição 1, e não na 0, logo, sempre será alocado uma posição adicional...\u001b[0m\u001b[0;34m\u001b[0m\u001b[0;34m\u001b[0m\u001b[0;34m\u001b[0m\u001b[0m\n\u001b[0;32m---> 26\u001b[0;31m     \u001b[0mdimensoes\u001b[0m \u001b[0;34m=\u001b[0m \u001b[0;34m''\u001b[0m\u001b[0;34m.\u001b[0m\u001b[0mjoin\u001b[0m\u001b[0;34m(\u001b[0m\u001b[0;34m[\u001b[0m\u001b[0;34m'[%d]'\u001b[0m\u001b[0;34m%\u001b[0m\u001b[0;34m(\u001b[0m\u001b[0mint\u001b[0m\u001b[0;34m(\u001b[0m\u001b[0mv\u001b[0m\u001b[0;34m.\u001b[0m\u001b[0msplit\u001b[0m\u001b[0;34m(\u001b[0m\u001b[0;34m'..'\u001b[0m\u001b[0;34m)\u001b[0m\u001b[0;34m[\u001b[0m\u001b[0;34m-\u001b[0m\u001b[0;36m1\u001b[0m\u001b[0;34m]\u001b[0m\u001b[0;34m)\u001b[0m \u001b[0;34m+\u001b[0m \u001b[0;36m1\u001b[0m\u001b[0;34m)\u001b[0m \u001b[0;32mfor\u001b[0m \u001b[0mv\u001b[0m \u001b[0;32min\u001b[0m \u001b[0mdimensoes\u001b[0m\u001b[0;34m.\u001b[0m\u001b[0msplit\u001b[0m\u001b[0;34m(\u001b[0m\u001b[0;34m','\u001b[0m\u001b[0;34m)\u001b[0m\u001b[0;34m]\u001b[0m\u001b[0;34m)\u001b[0m\u001b[0;34m\u001b[0m\u001b[0;34m\u001b[0m\u001b[0m\n\u001b[0m\u001b[1;32m     27\u001b[0m     \u001b[0mvar_dict\u001b[0m\u001b[0;34m(\u001b[0m\u001b[0mtipos_variaveis\u001b[0m\u001b[0;34m[\u001b[0m\u001b[0mtipo\u001b[0m\u001b[0;34m]\u001b[0m\u001b[0;34m)\u001b[0m\u001b[0;34m\u001b[0m\u001b[0;34m\u001b[0m\u001b[0m\n\u001b[1;32m     28\u001b[0m     \u001b[0mt_vars\u001b[0m\u001b[0;34m[\u001b[0m\u001b[0mtipos_variaveis\u001b[0m\u001b[0;34m[\u001b[0m\u001b[0mtipo\u001b[0m\u001b[0;34m]\u001b[0m\u001b[0;34m]\u001b[0m \u001b[0;34m+=\u001b[0m \u001b[0;34m[\u001b[0m\u001b[0;34m\"%s%s\"\u001b[0m\u001b[0;34m%\u001b[0m\u001b[0;34m(\u001b[0m\u001b[0mv\u001b[0m\u001b[0;34m.\u001b[0m\u001b[0mstrip\u001b[0m\u001b[0;34m(\u001b[0m\u001b[0;34m)\u001b[0m\u001b[0;34m.\u001b[0m\u001b[0mlower\u001b[0m\u001b[0;34m(\u001b[0m\u001b[0;34m)\u001b[0m\u001b[0;34m,\u001b[0m\u001b[0mdimensoes\u001b[0m\u001b[0;34m)\u001b[0m \u001b[0;32mfor\u001b[0m \u001b[0mv\u001b[0m \u001b[0;32min\u001b[0m \u001b[0mnomes_var\u001b[0m\u001b[0;34m.\u001b[0m\u001b[0msplit\u001b[0m\u001b[0;34m(\u001b[0m\u001b[0;34m','\u001b[0m\u001b[0;34m)\u001b[0m\u001b[0;34m]\u001b[0m\u001b[0;34m\u001b[0m\u001b[0;34m\u001b[0m\u001b[0m\n",
            "\u001b[0;31mValueError\u001b[0m: invalid literal for int() with base 10: 'n'"
          ]
        }
      ]
    },
    {
      "cell_type": "code",
      "source": [
        "#files.download(ARQ_NOTAS)"
      ],
      "metadata": {
        "id": "rwMfgxErmaqj"
      },
      "execution_count": null,
      "outputs": []
    }
  ]
}